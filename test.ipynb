{
 "cells": [
  {
   "cell_type": "code",
   "execution_count": 85,
   "metadata": {},
   "outputs": [],
   "source": [
    "import matplotlib.pyplot as plt\n",
    "import matplotlib.patches as patches\n",
    "%matplotlib inline\n",
    "import numpy as np\n",
    "\n",
    "import warnings\n",
    "warnings.filterwarnings(\"ignore\")\n",
    "\n",
    "# CNN packages\n",
    "import keras\n",
    "from keras.models import Sequential\n",
    "from keras.layers import Dense,Activation\n",
    "from keras.utils import to_categorical\n",
    "from keras.layers import Convolution2D,MaxPooling2D,Flatten,Dropout\n"
   ]
  },
  {
   "cell_type": "code",
   "execution_count": 86,
   "metadata": {},
   "outputs": [],
   "source": [
    "# inputs\n",
    "IMAGE_SIZE = 72 # IMAGE_SIZE*IMAGE_SIZE=nb of columns in dataset\n",
    "batch = 32\n",
    "epochs = 100 # parameter to test convergence"
   ]
  },
  {
   "cell_type": "code",
   "execution_count": 87,
   "metadata": {
    "scrolled": true
   },
   "outputs": [
    {
     "data": {
      "image/png": "[encoded data removed]",
      "text/plain": [
       "<Figure size 432x288 with 1 Axes>"
      ]
     },
     "metadata": {},
     "output_type": "display_data"
    }
   ],
   "source": [
    "def generate_a_drawing(figsize, U, V, noise=0.0):\n",
    "    fig = plt.figure(figsize=(figsize,figsize))\n",
    "    ax = plt.subplot(111)\n",
    "    plt.axis('Off')\n",
    "    ax.set_xlim(0,figsize)\n",
    "    ax.set_ylim(0,figsize)\n",
    "    ax.fill(U, V, \"k\")\n",
    "    fig.canvas.draw()\n",
    "    imdata = np.frombuffer(fig.canvas.tostring_rgb(), dtype=np.uint8)[::3].astype(np.float32)\n",
    "    imdata = imdata + noise * np.random.random(imdata.size)\n",
    "    plt.close(fig)\n",
    "    return imdata\n",
    "\n",
    "def generate_a_rectangle(noise=0.0, free_location=False):\n",
    "    figsize = 1.0    \n",
    "    U = np.zeros(4)\n",
    "    V = np.zeros(4)\n",
    "    if free_location:\n",
    "        corners = np.random.random(4)\n",
    "        top = max(corners[0], corners[1])\n",
    "        bottom = min(corners[0], corners[1])\n",
    "        left = min(corners[2], corners[3])\n",
    "        right = max(corners[2], corners[3])\n",
    "    else:\n",
    "        side = (0.3 + 0.7 * np.random.random()) * figsize\n",
    "        top = figsize/2 + side/2\n",
    "        bottom = figsize/2 - side/2\n",
    "        left = bottom\n",
    "        right = top\n",
    "    U[0] = U[1] = top\n",
    "    U[2] = U[3] = bottom\n",
    "    V[0] = V[3] = left\n",
    "    V[1] = V[2] = right\n",
    "    return generate_a_drawing(figsize, U, V, noise)\n",
    "\n",
    "\n",
    "def generate_a_disk(noise=0.0, free_location=False):\n",
    "    figsize = 1.0\n",
    "    if free_location:\n",
    "        center = np.random.random(2)\n",
    "    else:\n",
    "        center = (figsize/2, figsize/2)\n",
    "    radius = (0.3 + 0.7 * np.random.random()) * figsize/2\n",
    "    N = 50\n",
    "    U = np.zeros(N)\n",
    "    V = np.zeros(N)\n",
    "    i = 0\n",
    "    for t in np.linspace(0, 2*np.pi, N):\n",
    "        U[i] = center[0] + np.cos(t) * radius\n",
    "        V[i] = center[1] + np.sin(t) * radius\n",
    "        i = i + 1\n",
    "    return generate_a_drawing(figsize, U, V, noise)\n",
    "\n",
    "def generate_a_triangle(noise=0.0, free_location=False):\n",
    "    figsize = 1.0\n",
    "    if free_location:\n",
    "        U = np.random.random(3)\n",
    "        V = np.random.random(3)\n",
    "    else:\n",
    "        size = (0.3 + 0.7 * np.random.random())*figsize/2\n",
    "        middle = figsize/2\n",
    "        U = (middle, middle+size, middle-size)\n",
    "        V = (middle+size, middle-size, middle-size)\n",
    "    imdata = generate_a_drawing(figsize, U, V, noise)\n",
    "    return [imdata, [U[0], V[0], U[1], V[1], U[2], V[2]]]\n",
    "\n",
    "\n",
    "im = generate_a_rectangle(10, True)\n",
    "plt.imshow(im.reshape(IMAGE_SIZE,IMAGE_SIZE), cmap='gray')\n",
    "\n",
    "\n",
    "im = generate_a_disk(10)\n",
    "plt.imshow(im.reshape(IMAGE_SIZE,IMAGE_SIZE), cmap='gray')\n",
    "\n",
    "\n",
    "[im, v] = generate_a_triangle(20, False)\n",
    "plt.imshow(im.reshape(IMAGE_SIZE,IMAGE_SIZE), cmap='gray')\n",
    "\n",
    "\n",
    "\n",
    "def generate_dataset_classification(nb_samples, noise=0.0, free_location=False):\n",
    "    # Getting im_size:\n",
    "    im_size = generate_a_rectangle().shape[0]\n",
    "    X = np.zeros([nb_samples,im_size])\n",
    "    Y = np.zeros(nb_samples)\n",
    "    print('Creating data:')\n",
    "    for i in range(nb_samples):\n",
    "        if i % 10 == 0:\n",
    "            print(i)\n",
    "        category = np.random.randint(3)\n",
    "        if category == 0:\n",
    "            X[i] = generate_a_rectangle(noise, free_location)\n",
    "        elif category == 1: \n",
    "            X[i] = generate_a_disk(noise, free_location)\n",
    "        else:\n",
    "            [X[i], V] = generate_a_triangle(noise, free_location)\n",
    "        Y[i] = category\n",
    "    X = (X + noise) / (255 + 2 * noise)\n",
    "    return [X, Y]\n",
    "\n",
    "def generate_test_set_classification():\n",
    "    np.random.seed(42)\n",
    "    [X_test, Y_test] = generate_dataset_classification(300, 20, True)\n",
    "    Y_test = np_utils.to_categorical(Y_test, 3) \n",
    "    return [X_test, Y_test]\n",
    "\n",
    "def generate_dataset_regression(nb_samples, noise=0.0):\n",
    "    # Getting im_size:\n",
    "    im_size = generate_a_triangle()[0].shape[0]\n",
    "    X = np.zeros([nb_samples,im_size])\n",
    "    Y = np.zeros([nb_samples, 6])\n",
    "    print('Creating data:')\n",
    "    for i in range(nb_samples):\n",
    "        if i % 10 == 0:\n",
    "            print(i)\n",
    "        [X[i], Y[i]] = generate_a_triangle(noise, True)\n",
    "    X = (X + noise) / (255 + 2 * noise)\n",
    "    return [X, Y]\n",
    "\n",
    "# import matplotlib.patches as patches\n",
    "\n",
    "def visualize_prediction(x, y):\n",
    "    fig, ax = plt.subplots(figsize=(5, 5))\n",
    "    I = x.reshape((IMAGE_SIZE,IMAGE_SIZE))\n",
    "    ax.imshow(I, extent=[-0.15,1.15,-0.15,1.15],cmap='gray')\n",
    "    ax.set_xlim([0,1])\n",
    "    ax.set_ylim([0,1])\n",
    "\n",
    "    xy = y.reshape(3,2)\n",
    "    tri = patches.Polygon(xy, closed=True, fill = False, edgecolor = 'r', linewidth = 5, alpha = 0.5)\n",
    "    ax.add_patch(tri)\n",
    "\n",
    "    plt.show()\n",
    "\n",
    "def generate_test_set_regression():\n",
    "    np.random.seed(42)\n",
    "    [X_test, Y_test] = generate_dataset_regression(300, 20)\n",
    "    return [X_test, Y_test]"
   ]
  },
  {
   "cell_type": "markdown",
   "metadata": {},
   "source": [
    "# 3.Simple Classification\n",
    "\n",
    "In order to classify images of rectangles, disks and triangles, images can contains noises or not, four layers with 128,62, 32 and 3 hidden units(neurons) are used in order to define the model. These fully connected layers are defined with Dense. I have chosen these features after several experiments, and concluded that this network is large enough to capture the structure of our dataset. \n",
    "\n",
    "The three first activation arguments are rectifier (\"relu\") and the last one is \"softmax\" for the last layer. A rectified linear unit has output 0 if the input is less than 0, and raw output otherwise. That is, if the input is greater than 0, the output is equal to the input. \n",
    "\n",
    "\"Softmax\" is chosen for the last layer because it is suitable for classification problems. Its output is equivalent to a categorical probability distribution. \n",
    "\n",
    "For the Compile model, our targets are one-hot encoded, so I set the <loss> parameter with \"categorical_crossentropy\". Here, the batch size, i.e. the number of samples that propagate through the network, is 32.\n",
    "    \n",
    "Since the catagory of our shapes is denoted with intergers 0,1,2, I have transformed them to 0 and 1 in a array in order to fit this model.\n",
    "\n",
    "### Results\n",
    "\n",
    "For both optimizers, stochastic gradient descent and ADAM, convergences are observed. ADAM converges much quicker and its accuracy (converges to 1) is much better than SGD method."
   ]
  },
  {
   "cell_type": "code",
   "execution_count": 88,
   "metadata": {},
   "outputs": [
    {
     "name": "stdout",
     "output_type": "stream",
     "text": [
      "Creating data:\n",
      "0\n",
      "10\n",
      "20\n",
      "30\n",
      "40\n",
      "50\n",
      "60\n",
      "70\n",
      "80\n",
      "90\n",
      "100\n",
      "110\n",
      "120\n",
      "130\n",
      "140\n",
      "150\n",
      "160\n",
      "170\n",
      "180\n",
      "190\n",
      "200\n",
      "210\n",
      "220\n",
      "230\n",
      "240\n",
      "250\n",
      "260\n",
      "270\n",
      "280\n",
      "290\n",
      "Creating data:\n",
      "0\n",
      "10\n",
      "20\n",
      "30\n",
      "40\n",
      "50\n",
      "60\n",
      "70\n",
      "80\n",
      "90\n",
      "100\n",
      "110\n",
      "120\n",
      "130\n",
      "140\n",
      "150\n",
      "160\n",
      "170\n",
      "180\n",
      "190\n",
      "200\n",
      "210\n",
      "220\n",
      "230\n",
      "240\n",
      "250\n",
      "260\n",
      "270\n",
      "280\n",
      "290\n"
     ]
    }
   ],
   "source": [
    "[X_train, Y_train] = generate_dataset_classification(300, 20)\n",
    "from keras.utils import np_utils\n",
    "[X_test,Y_test] = generate_test_set_classification()\n",
    "\n",
    "n_train=np.shape(X_train)[1]\n",
    "n_test=np.shape(X_test)[1]\n"
   ]
  },
  {
   "cell_type": "code",
   "execution_count": 108,
   "metadata": {},
   "outputs": [],
   "source": [
    "def Keras_model(n,optimizer):\n",
    "    '''using Dense and compile to build CNN, input parameter <optimizer> equals to sgd or adam '''\n",
    "    model = Sequential()\n",
    "    model.add(Dense(128, input_dim=n, kernel_initializer='normal',activation='relu'))\n",
    "    model.add(Dense(64, kernel_initializer='normal',activation='relu'))\n",
    "    model.add(Dense(32, kernel_initializer='normal',activation='relu'))\n",
    "    model.add(Dense(3,kernel_initializer='normal',activation='softmax'))\n",
    "    # Compiling the CNN\n",
    "    if optimizer == 'sgd':\n",
    "        model.compile(loss='categorical_crossentropy', optimizer='sgd',metrics=['accuracy'])\n",
    "    else:\n",
    "        model.compile(loss='categorical_crossentropy',optimizer='adam',metrics=['accuracy'])\n",
    "    model.summary()\n",
    "    \n",
    "    return model"
   ]
  },
  {
   "cell_type": "markdown",
   "metadata": {},
   "source": [
    "# SGD\n",
    "The lower the loss, the better a model (unless the model has over-fitted to the training data). The loss is calculated on training and validation and its interperation is how well the model is doing for these two sets. Unlike accuracy, loss is not a percentage. It is a summation of the errors made for each example in training or validation sets."
   ]
  },
  {
   "cell_type": "code",
   "execution_count": 109,
   "metadata": {},
   "outputs": [
    {
     "name": "stdout",
     "output_type": "stream",
     "text": [
      "_________________________________________________________________\n",
      "Layer (type)                 Output Shape              Param #   \n",
      "=================================================================\n",
      "dense_43 (Dense)             (None, 128)               663680    \n",
      "_________________________________________________________________\n",
      "dense_44 (Dense)             (None, 64)                8256      \n",
      "_________________________________________________________________\n",
      "dense_45 (Dense)             (None, 32)                2080      \n",
      "_________________________________________________________________\n",
      "dense_46 (Dense)             (None, 3)                 99        \n",
      "=================================================================\n",
      "Total params: 674,115\n",
      "Trainable params: 674,115\n",
      "Non-trainable params: 0\n",
      "_________________________________________________________________\n",
      "Summary of SGD Method\n",
      "<keras.engine.sequential.Sequential object at 0x00000210E89A22B0>\n"
     ]
    }
   ],
   "source": [
    "Classifier_SGD = Keras_model(n_train,'sgd')\n",
    "\n",
    "print('Summary of SGD Method')\n",
    "print(Classifier_SGD)\n",
    "\n",
    "#Train Model \n",
    "history = keras.callbacks.History()\n",
    "\n",
    "# Convert labels to categorical one-hot encoding\n",
    "ytrain_trinary = to_categorical(Y_train)\n"
   ]
  },
  {
   "cell_type": "code",
   "execution_count": 110,
   "metadata": {},
   "outputs": [
    {
     "name": "stdout",
     "output_type": "stream",
     "text": [
      "Epoch 1/100\n",
      "300/300 [==============================] - 1s 2ms/step - loss: 1.0967 - acc: 0.3467\n",
      "Epoch 2/100\n",
      "300/300 [==============================] - 0s 480us/step - loss: 1.0896 - acc: 0.3867\n",
      "Epoch 3/100\n",
      "300/300 [==============================] - 0s 510us/step - loss: 1.0831 - acc: 0.5067\n",
      "Epoch 4/100\n",
      "300/300 [==============================] - 0s 506us/step - loss: 1.0770 - acc: 0.5400\n",
      "Epoch 5/100\n",
      "300/300 [==============================] - 0s 513us/step - loss: 1.0716 - acc: 0.5433\n",
      "Epoch 6/100\n",
      "300/300 [==============================] - 0s 476us/step - loss: 1.0644 - acc: 0.5367\n",
      "Epoch 7/100\n",
      "300/300 [==============================] - 0s 486us/step - loss: 1.0575 - acc: 0.5633\n",
      "Epoch 8/100\n",
      "300/300 [==============================] - 0s 466us/step - loss: 1.0495 - acc: 0.5433\n",
      "Epoch 9/100\n",
      "300/300 [==============================] - 0s 533us/step - loss: 1.0403 - acc: 0.5567\n",
      "Epoch 10/100\n",
      "300/300 [==============================] - 0s 486us/step - loss: 1.0297 - acc: 0.5500\n",
      "Epoch 11/100\n",
      "300/300 [==============================] - 0s 476us/step - loss: 1.0185 - acc: 0.5867\n",
      "Epoch 12/100\n",
      "300/300 [==============================] - 0s 490us/step - loss: 1.0019 - acc: 0.6033\n",
      "Epoch 13/100\n",
      "300/300 [==============================] - 0s 493us/step - loss: 0.9839 - acc: 0.6267\n",
      "Epoch 14/100\n",
      "300/300 [==============================] - 0s 480us/step - loss: 0.9610 - acc: 0.6167\n",
      "Epoch 15/100\n",
      "300/300 [==============================] - 0s 490us/step - loss: 0.9357 - acc: 0.6200\n",
      "Epoch 16/100\n",
      "300/300 [==============================] - 0s 510us/step - loss: 0.9026 - acc: 0.6100\n",
      "Epoch 17/100\n",
      "300/300 [==============================] - 0s 493us/step - loss: 0.8702 - acc: 0.6500\n",
      "Epoch 18/100\n",
      "300/300 [==============================] - 0s 496us/step - loss: 0.8307 - acc: 0.6767\n",
      "Epoch 19/100\n",
      "300/300 [==============================] - 0s 500us/step - loss: 0.7865 - acc: 0.7033\n",
      "Epoch 20/100\n",
      "300/300 [==============================] - 0s 506us/step - loss: 0.7426 - acc: 0.7300\n",
      "Epoch 21/100\n",
      "300/300 [==============================] - 0s 493us/step - loss: 0.7075 - acc: 0.7200\n",
      "Epoch 22/100\n",
      "300/300 [==============================] - 0s 483us/step - loss: 0.6459 - acc: 0.7567\n",
      "Epoch 23/100\n",
      "300/300 [==============================] - 0s 496us/step - loss: 0.6168 - acc: 0.7700\n",
      "Epoch 24/100\n",
      "300/300 [==============================] - 0s 483us/step - loss: 0.5811 - acc: 0.7800\n",
      "Epoch 25/100\n",
      "300/300 [==============================] - 0s 470us/step - loss: 0.5629 - acc: 0.7567\n",
      "Epoch 26/100\n",
      "300/300 [==============================] - 0s 493us/step - loss: 0.5316 - acc: 0.8033\n",
      "Epoch 27/100\n",
      "300/300 [==============================] - 0s 486us/step - loss: 0.5090 - acc: 0.8267\n",
      "Epoch 28/100\n",
      "300/300 [==============================] - 0s 510us/step - loss: 0.4565 - acc: 0.8233\n",
      "Epoch 29/100\n",
      "300/300 [==============================] - 0s 463us/step - loss: 0.4488 - acc: 0.8067\n",
      "Epoch 30/100\n",
      "300/300 [==============================] - 0s 473us/step - loss: 0.4259 - acc: 0.8667\n",
      "Epoch 31/100\n",
      "300/300 [==============================] - 0s 486us/step - loss: 0.4118 - acc: 0.8533\n",
      "Epoch 32/100\n",
      "300/300 [==============================] - 0s 470us/step - loss: 0.4510 - acc: 0.8033\n",
      "Epoch 33/100\n",
      "300/300 [==============================] - 0s 470us/step - loss: 0.3756 - acc: 0.8567\n",
      "Epoch 34/100\n",
      "300/300 [==============================] - 0s 496us/step - loss: 0.3557 - acc: 0.8900\n",
      "Epoch 35/100\n",
      "300/300 [==============================] - 0s 456us/step - loss: 0.3679 - acc: 0.8467\n",
      "Epoch 36/100\n",
      "300/300 [==============================] - 0s 466us/step - loss: 0.3499 - acc: 0.8600\n",
      "Epoch 37/100\n",
      "300/300 [==============================] - 0s 523us/step - loss: 0.3438 - acc: 0.8567\n",
      "Epoch 38/100\n",
      "300/300 [==============================] - 0s 480us/step - loss: 0.3012 - acc: 0.8900\n",
      "Epoch 39/100\n",
      "300/300 [==============================] - 0s 466us/step - loss: 0.3358 - acc: 0.8600\n",
      "Epoch 40/100\n",
      "300/300 [==============================] - 0s 456us/step - loss: 0.2567 - acc: 0.9200\n",
      "Epoch 41/100\n",
      "300/300 [==============================] - 0s 470us/step - loss: 0.4169 - acc: 0.7867\n",
      "Epoch 42/100\n",
      "300/300 [==============================] - 0s 483us/step - loss: 0.8029 - acc: 0.7033\n",
      "Epoch 43/100\n",
      "300/300 [==============================] - 0s 486us/step - loss: 0.2812 - acc: 0.8900\n",
      "Epoch 44/100\n",
      "300/300 [==============================] - 0s 500us/step - loss: 0.2644 - acc: 0.9167\n",
      "Epoch 45/100\n",
      "300/300 [==============================] - 0s 506us/step - loss: 0.2298 - acc: 0.9167\n",
      "Epoch 46/100\n",
      "300/300 [==============================] - 0s 476us/step - loss: 0.2732 - acc: 0.8867\n",
      "Epoch 47/100\n",
      "300/300 [==============================] - 0s 480us/step - loss: 0.2863 - acc: 0.8633\n",
      "Epoch 48/100\n",
      "300/300 [==============================] - 0s 473us/step - loss: 0.2245 - acc: 0.8900\n",
      "Epoch 49/100\n",
      "300/300 [==============================] - 0s 490us/step - loss: 0.2343 - acc: 0.9100\n",
      "Epoch 50/100\n",
      "300/300 [==============================] - 0s 466us/step - loss: 0.3710 - acc: 0.8500\n",
      "Epoch 51/100\n",
      "300/300 [==============================] - 0s 480us/step - loss: 0.3159 - acc: 0.8667\n",
      "Epoch 52/100\n",
      "300/300 [==============================] - 0s 476us/step - loss: 0.2104 - acc: 0.9233\n",
      "Epoch 53/100\n",
      "300/300 [==============================] - 0s 483us/step - loss: 0.2667 - acc: 0.8900\n",
      "Epoch 54/100\n",
      "300/300 [==============================] - 0s 466us/step - loss: 0.3588 - acc: 0.8733\n",
      "Epoch 55/100\n",
      "300/300 [==============================] - 0s 490us/step - loss: 0.1662 - acc: 0.9433\n",
      "Epoch 56/100\n",
      "300/300 [==============================] - 0s 500us/step - loss: 0.1571 - acc: 0.9633\n",
      "Epoch 57/100\n",
      "300/300 [==============================] - 0s 503us/step - loss: 0.1933 - acc: 0.9300\n",
      "Epoch 58/100\n",
      "300/300 [==============================] - 0s 523us/step - loss: 0.3025 - acc: 0.8633\n",
      "Epoch 59/100\n",
      "300/300 [==============================] - 0s 516us/step - loss: 0.2526 - acc: 0.9067\n",
      "Epoch 60/100\n",
      "300/300 [==============================] - 0s 500us/step - loss: 0.1784 - acc: 0.9400\n",
      "Epoch 61/100\n",
      "300/300 [==============================] - 0s 516us/step - loss: 0.2011 - acc: 0.9333\n",
      "Epoch 62/100\n",
      "300/300 [==============================] - 0s 513us/step - loss: 0.2893 - acc: 0.9067\n",
      "Epoch 63/100\n",
      "300/300 [==============================] - 0s 480us/step - loss: 0.2273 - acc: 0.8767\n",
      "Epoch 64/100\n",
      "300/300 [==============================] - 0s 510us/step - loss: 0.1681 - acc: 0.9200\n",
      "Epoch 65/100\n",
      "300/300 [==============================] - 0s 516us/step - loss: 0.2159 - acc: 0.9033\n",
      "Epoch 66/100\n",
      "300/300 [==============================] - 0s 503us/step - loss: 0.1275 - acc: 0.9733\n",
      "Epoch 67/100\n",
      "300/300 [==============================] - 0s 486us/step - loss: 0.1614 - acc: 0.9333\n",
      "Epoch 68/100\n",
      "300/300 [==============================] - 0s 496us/step - loss: 0.2561 - acc: 0.8767\n",
      "Epoch 69/100\n",
      "300/300 [==============================] - 0s 533us/step - loss: 0.1711 - acc: 0.9200\n",
      "Epoch 70/100\n",
      "300/300 [==============================] - 0s 516us/step - loss: 0.1254 - acc: 0.9533\n",
      "Epoch 71/100\n",
      "300/300 [==============================] - 0s 500us/step - loss: 0.1075 - acc: 0.9567\n",
      "Epoch 72/100\n",
      "300/300 [==============================] - 0s 496us/step - loss: 0.1869 - acc: 0.9367\n",
      "Epoch 73/100\n",
      "300/300 [==============================] - 0s 513us/step - loss: 0.2581 - acc: 0.8967\n",
      "Epoch 74/100\n",
      "300/300 [==============================] - 0s 506us/step - loss: 0.0884 - acc: 0.9933\n",
      "Epoch 75/100\n",
      "300/300 [==============================] - 0s 496us/step - loss: 0.1591 - acc: 0.9400\n",
      "Epoch 76/100\n",
      "300/300 [==============================] - 0s 510us/step - loss: 0.2926 - acc: 0.8467\n",
      "Epoch 77/100\n",
      "300/300 [==============================] - 0s 523us/step - loss: 0.1022 - acc: 0.9733\n",
      "Epoch 78/100\n",
      "300/300 [==============================] - 0s 540us/step - loss: 0.0972 - acc: 0.9600\n",
      "Epoch 79/100\n",
      "300/300 [==============================] - 0s 496us/step - loss: 0.0787 - acc: 0.9800\n",
      "Epoch 80/100\n",
      "300/300 [==============================] - 0s 503us/step - loss: 0.0668 - acc: 0.9967\n",
      "Epoch 81/100\n",
      "300/300 [==============================] - 0s 483us/step - loss: 0.0890 - acc: 0.9667\n",
      "Epoch 82/100\n",
      "300/300 [==============================] - 0s 506us/step - loss: 0.3166 - acc: 0.8700\n",
      "Epoch 83/100\n"
     ]
    },
    {
     "name": "stdout",
     "output_type": "stream",
     "text": [
      "300/300 [==============================] - 0s 523us/step - loss: 0.1405 - acc: 0.9467\n",
      "Epoch 84/100\n",
      "300/300 [==============================] - 0s 556us/step - loss: 0.1559 - acc: 0.9433\n",
      "Epoch 85/100\n",
      "300/300 [==============================] - 0s 506us/step - loss: 0.0724 - acc: 0.9867\n",
      "Epoch 86/100\n",
      "300/300 [==============================] - 0s 479us/step - loss: 0.0848 - acc: 0.9600\n",
      "Epoch 87/100\n",
      "300/300 [==============================] - 0s 475us/step - loss: 0.2327 - acc: 0.9033\n",
      "Epoch 88/100\n",
      "300/300 [==============================] - 0s 553us/step - loss: 0.1318 - acc: 0.9367\n",
      "Epoch 89/100\n",
      "300/300 [==============================] - 0s 570us/step - loss: 0.0678 - acc: 0.9867\n",
      "Epoch 90/100\n",
      "300/300 [==============================] - 0s 520us/step - loss: 0.0582 - acc: 0.9833\n",
      "Epoch 91/100\n",
      "300/300 [==============================] - 0s 503us/step - loss: 0.2650 - acc: 0.8967\n",
      "Epoch 92/100\n",
      "300/300 [==============================] - 0s 459us/step - loss: 0.0563 - acc: 0.9967\n",
      "Epoch 93/100\n",
      "300/300 [==============================] - 0s 471us/step - loss: 0.0559 - acc: 0.9933\n",
      "Epoch 94/100\n",
      "300/300 [==============================] - 0s 470us/step - loss: 0.2028 - acc: 0.9333\n",
      "Epoch 95/100\n",
      "300/300 [==============================] - 0s 453us/step - loss: 0.0609 - acc: 0.9900\n",
      "Epoch 96/100\n",
      "300/300 [==============================] - 0s 475us/step - loss: 0.0905 - acc: 0.9600\n",
      "Epoch 97/100\n",
      "300/300 [==============================] - 0s 480us/step - loss: 0.0542 - acc: 0.9867\n",
      "Epoch 98/100\n",
      "300/300 [==============================] - 0s 456us/step - loss: 0.0683 - acc: 0.9700\n",
      "Epoch 99/100\n",
      "300/300 [==============================] - 0s 466us/step - loss: 0.1075 - acc: 0.9633\n",
      "Epoch 100/100\n",
      "300/300 [==============================] - 0s 456us/step - loss: 0.0580 - acc: 0.9767\n"
     ]
    },
    {
     "data": {
      "text/plain": [
       "<keras.callbacks.History at 0x210e89baeb8>"
      ]
     },
     "execution_count": 110,
     "metadata": {},
     "output_type": "execute_result"
    }
   ],
   "source": [
    "Classifier_SGD.fit(X_train,ytrain_trinary,epochs=epochs,batch_size =batch,callbacks=[history])"
   ]
  },
  {
   "cell_type": "code",
   "execution_count": 111,
   "metadata": {
    "scrolled": false
   },
   "outputs": [
    {
     "data": {
      "text/plain": [
       "<function matplotlib.pyplot.show(*args, **kw)>"
      ]
     },
     "execution_count": 111,
     "metadata": {},
     "output_type": "execute_result"
    },
    {
     "data": {
      "image/png": "[encoded data removed]",
      "text/plain": [
       "<Figure size 432x288 with 1 Axes>"
      ]
     },
     "metadata": {},
     "output_type": "display_data"
    }
   ],
   "source": [
    "#Plot\n",
    "loss_SGD = history.history.get('loss')\n",
    "accuracy_SGD = history.history.get('acc')\n",
    "plt.plot(loss_SGD)\n",
    "plt.plot(accuracy_SGD)\n",
    "plt.legend(['loss_SGD','accuracy_SGD'])\n",
    "plt.show"
   ]
  },
  {
   "cell_type": "markdown",
   "metadata": {},
   "source": [
    "# ADAM"
   ]
  },
  {
   "cell_type": "code",
   "execution_count": 112,
   "metadata": {
    "scrolled": true
   },
   "outputs": [
    {
     "name": "stdout",
     "output_type": "stream",
     "text": [
      "_________________________________________________________________\n",
      "Layer (type)                 Output Shape              Param #   \n",
      "=================================================================\n",
      "dense_47 (Dense)             (None, 128)               663680    \n",
      "_________________________________________________________________\n",
      "dense_48 (Dense)             (None, 64)                8256      \n",
      "_________________________________________________________________\n",
      "dense_49 (Dense)             (None, 32)                2080      \n",
      "_________________________________________________________________\n",
      "dense_50 (Dense)             (None, 3)                 99        \n",
      "=================================================================\n",
      "Total params: 674,115\n",
      "Trainable params: 674,115\n",
      "Non-trainable params: 0\n",
      "_________________________________________________________________\n",
      "Summary of ADAM Method\n",
      "<keras.engine.sequential.Sequential object at 0x00000210F12D2D30>\n"
     ]
    }
   ],
   "source": [
    "Classifier_ADAM = Keras_model(n_train,'adam')\n",
    "print('Summary of ADAM Method')\n",
    "print(Classifier_ADAM)"
   ]
  },
  {
   "cell_type": "code",
   "execution_count": 113,
   "metadata": {},
   "outputs": [
    {
     "name": "stdout",
     "output_type": "stream",
     "text": [
      "Epoch 1/100\n",
      "300/300 [==============================] - 1s 3ms/step - loss: 1.0552 - acc: 0.4433\n",
      "Epoch 2/100\n",
      "300/300 [==============================] - 0s 756us/step - loss: 0.8554 - acc: 0.7000\n",
      "Epoch 3/100\n",
      "300/300 [==============================] - 0s 743us/step - loss: 0.6143 - acc: 0.7100\n",
      "Epoch 4/100\n",
      "300/300 [==============================] - 0s 764us/step - loss: 0.4543 - acc: 0.7833\n",
      "Epoch 5/100\n",
      "300/300 [==============================] - 0s 730us/step - loss: 0.4043 - acc: 0.8800\n",
      "Epoch 6/100\n",
      "300/300 [==============================] - 0s 770us/step - loss: 0.3277 - acc: 0.9067\n",
      "Epoch 7/100\n",
      "300/300 [==============================] - 0s 783us/step - loss: 0.3140 - acc: 0.8500\n",
      "Epoch 8/100\n",
      "300/300 [==============================] - 0s 751us/step - loss: 0.2716 - acc: 0.8633\n",
      "Epoch 9/100\n",
      "300/300 [==============================] - 0s 743us/step - loss: 0.2303 - acc: 0.8900\n",
      "Epoch 10/100\n",
      "300/300 [==============================] - 0s 783us/step - loss: 0.1392 - acc: 0.9733\n",
      "Epoch 11/100\n",
      "300/300 [==============================] - 0s 773us/step - loss: 0.1293 - acc: 0.9700\n",
      "Epoch 12/100\n",
      "300/300 [==============================] - 0s 672us/step - loss: 0.0868 - acc: 0.9967\n",
      "Epoch 13/100\n",
      "300/300 [==============================] - 0s 781us/step - loss: 0.0697 - acc: 0.9933\n",
      "Epoch 14/100\n",
      "300/300 [==============================] - 0s 677us/step - loss: 0.0653 - acc: 0.9933\n",
      "Epoch 15/100\n",
      "300/300 [==============================] - 0s 798us/step - loss: 0.2060 - acc: 0.9100\n",
      "Epoch 16/100\n",
      "300/300 [==============================] - 0s 720us/step - loss: 0.2663 - acc: 0.8833\n",
      "Epoch 17/100\n",
      "300/300 [==============================] - 0s 843us/step - loss: 0.1448 - acc: 0.9400\n",
      "Epoch 18/100\n",
      "300/300 [==============================] - 0s 763us/step - loss: 0.0680 - acc: 0.9800\n",
      "Epoch 19/100\n",
      "300/300 [==============================] - 0s 766us/step - loss: 0.0357 - acc: 1.0000\n",
      "Epoch 20/100\n",
      "300/300 [==============================] - 0s 1ms/step - loss: 0.0301 - acc: 1.0000\n",
      "Epoch 21/100\n",
      "300/300 [==============================] - 0s 1ms/step - loss: 0.0182 - acc: 1.0000\n",
      "Epoch 22/100\n",
      "300/300 [==============================] - 0s 866us/step - loss: 0.0184 - acc: 1.0000\n",
      "Epoch 23/100\n",
      "300/300 [==============================] - 0s 823us/step - loss: 0.0197 - acc: 1.0000\n",
      "Epoch 24/100\n",
      "300/300 [==============================] - 0s 873us/step - loss: 0.0127 - acc: 1.0000\n",
      "Epoch 25/100\n",
      "300/300 [==============================] - 0s 826us/step - loss: 0.0095 - acc: 1.0000\n",
      "Epoch 26/100\n",
      "300/300 [==============================] - 0s 883us/step - loss: 0.0072 - acc: 1.0000\n",
      "Epoch 27/100\n",
      "300/300 [==============================] - 0s 900us/step - loss: 0.0066 - acc: 1.0000\n",
      "Epoch 28/100\n",
      "300/300 [==============================] - 0s 879us/step - loss: 0.0055 - acc: 1.0000\n",
      "Epoch 29/100\n",
      "300/300 [==============================] - 0s 823us/step - loss: 0.0054 - acc: 1.0000\n",
      "Epoch 30/100\n",
      "300/300 [==============================] - 0s 919us/step - loss: 0.0042 - acc: 1.0000\n",
      "Epoch 31/100\n",
      "300/300 [==============================] - 0s 909us/step - loss: 0.0041 - acc: 1.0000\n",
      "Epoch 32/100\n",
      "300/300 [==============================] - 0s 866us/step - loss: 0.0033 - acc: 1.0000\n",
      "Epoch 33/100\n",
      "300/300 [==============================] - 0s 770us/step - loss: 0.0031 - acc: 1.0000\n",
      "Epoch 34/100\n",
      "300/300 [==============================] - 0s 810us/step - loss: 0.0029 - acc: 1.0000\n",
      "Epoch 35/100\n",
      "300/300 [==============================] - 0s 763us/step - loss: 0.0025 - acc: 1.0000\n",
      "Epoch 36/100\n",
      "300/300 [==============================] - 0s 786us/step - loss: 0.0024 - acc: 1.0000\n",
      "Epoch 37/100\n",
      "300/300 [==============================] - 0s 783us/step - loss: 0.0027 - acc: 1.0000\n",
      "Epoch 38/100\n",
      "300/300 [==============================] - 0s 823us/step - loss: 0.0026 - acc: 1.0000\n",
      "Epoch 39/100\n",
      "300/300 [==============================] - 0s 850us/step - loss: 0.0022 - acc: 1.0000\n",
      "Epoch 40/100\n",
      "300/300 [==============================] - 0s 893us/step - loss: 0.0017 - acc: 1.0000\n",
      "Epoch 41/100\n",
      "300/300 [==============================] - 0s 1ms/step - loss: 0.0013 - acc: 1.0000\n",
      "Epoch 42/100\n",
      "300/300 [==============================] - 0s 1ms/step - loss: 0.0013 - acc: 1.0000\n",
      "Epoch 43/100\n",
      "300/300 [==============================] - 0s 1ms/step - loss: 0.0012 - acc: 1.0000\n",
      "Epoch 44/100\n",
      "300/300 [==============================] - 0s 1ms/step - loss: 0.0011 - acc: 1.0000\n",
      "Epoch 45/100\n",
      "300/300 [==============================] - 0s 1ms/step - loss: 0.0011 - acc: 1.0000\n",
      "Epoch 46/100\n",
      "300/300 [==============================] - 0s 1ms/step - loss: 0.0010 - acc: 1.0000\n",
      "Epoch 47/100\n",
      "300/300 [==============================] - 0s 1ms/step - loss: 9.6302e-04 - acc: 1.0000\n",
      "Epoch 48/100\n",
      "300/300 [==============================] - 0s 919us/step - loss: 8.7054e-04 - acc: 1.0000\n",
      "Epoch 49/100\n",
      "300/300 [==============================] - 0s 1ms/step - loss: 8.2496e-04 - acc: 1.0000\n",
      "Epoch 50/100\n",
      "300/300 [==============================] - 0s 1ms/step - loss: 7.9656e-04 - acc: 1.0000\n",
      "Epoch 51/100\n",
      "300/300 [==============================] - 0s 1ms/step - loss: 7.4125e-04 - acc: 1.0000\n",
      "Epoch 52/100\n",
      "300/300 [==============================] - 0s 966us/step - loss: 7.0086e-04 - acc: 1.0000\n",
      "Epoch 53/100\n",
      "300/300 [==============================] - 0s 963us/step - loss: 6.7326e-04 - acc: 1.0000 0s - loss: 6.7709e-04 - acc: 1.000\n",
      "Epoch 54/100\n",
      "300/300 [==============================] - 0s 1ms/step - loss: 6.5320e-04 - acc: 1.0000\n",
      "Epoch 55/100\n",
      "300/300 [==============================] - 0s 1ms/step - loss: 6.0274e-04 - acc: 1.0000\n",
      "Epoch 56/100\n",
      "300/300 [==============================] - 0s 1ms/step - loss: 5.5898e-04 - acc: 1.0000\n",
      "Epoch 57/100\n",
      "300/300 [==============================] - 0s 1ms/step - loss: 5.7764e-04 - acc: 1.0000\n",
      "Epoch 58/100\n",
      "300/300 [==============================] - 0s 1ms/step - loss: 5.8205e-04 - acc: 1.0000\n",
      "Epoch 59/100\n",
      "300/300 [==============================] - 0s 1ms/step - loss: 4.9875e-04 - acc: 1.0000\n",
      "Epoch 60/100\n",
      "300/300 [==============================] - 0s 1ms/step - loss: 4.8155e-04 - acc: 1.0000\n",
      "Epoch 61/100\n",
      "300/300 [==============================] - 0s 1ms/step - loss: 4.5428e-04 - acc: 1.0000\n",
      "Epoch 62/100\n",
      "300/300 [==============================] - 0s 1ms/step - loss: 4.2832e-04 - acc: 1.0000\n",
      "Epoch 63/100\n",
      "300/300 [==============================] - 0s 1ms/step - loss: 4.1372e-04 - acc: 1.0000\n",
      "Epoch 64/100\n",
      "300/300 [==============================] - 0s 1ms/step - loss: 4.0926e-04 - acc: 1.0000\n",
      "Epoch 65/100\n",
      "300/300 [==============================] - 0s 860us/step - loss: 3.8241e-04 - acc: 1.0000\n",
      "Epoch 66/100\n",
      "300/300 [==============================] - 0s 916us/step - loss: 3.6384e-04 - acc: 1.0000\n",
      "Epoch 67/100\n",
      "300/300 [==============================] - 0s 1ms/step - loss: 3.4910e-04 - acc: 1.0000\n",
      "Epoch 68/100\n",
      "300/300 [==============================] - 0s 840us/step - loss: 3.3898e-04 - acc: 1.0000\n",
      "Epoch 69/100\n",
      "300/300 [==============================] - 0s 876us/step - loss: 3.2348e-04 - acc: 1.0000\n",
      "Epoch 70/100\n",
      "300/300 [==============================] - 0s 946us/step - loss: 3.2181e-04 - acc: 1.0000\n",
      "Epoch 71/100\n",
      "300/300 [==============================] - 0s 846us/step - loss: 2.9514e-04 - acc: 1.0000\n",
      "Epoch 72/100\n",
      "300/300 [==============================] - 0s 834us/step - loss: 2.8868e-04 - acc: 1.0000\n",
      "Epoch 73/100\n",
      "300/300 [==============================] - 0s 745us/step - loss: 2.8600e-04 - acc: 1.0000\n",
      "Epoch 74/100\n",
      "300/300 [==============================] - 0s 743us/step - loss: 2.6808e-04 - acc: 1.0000\n",
      "Epoch 75/100\n",
      "300/300 [==============================] - 0s 734us/step - loss: 2.6269e-04 - acc: 1.0000\n",
      "Epoch 76/100\n",
      "300/300 [==============================] - 0s 807us/step - loss: 2.5137e-04 - acc: 1.0000\n",
      "Epoch 77/100\n",
      "300/300 [==============================] - 0s 677us/step - loss: 2.4477e-04 - acc: 1.0000\n",
      "Epoch 78/100\n",
      "300/300 [==============================] - 0s 789us/step - loss: 2.4496e-04 - acc: 1.0000\n",
      "Epoch 79/100\n",
      "300/300 [==============================] - 0s 677us/step - loss: 2.2759e-04 - acc: 1.0000\n",
      "Epoch 80/100\n",
      "300/300 [==============================] - 0s 772us/step - loss: 2.3721e-04 - acc: 1.0000\n",
      "Epoch 81/100\n",
      "300/300 [==============================] - 0s 813us/step - loss: 2.2330e-04 - acc: 1.0000\n",
      "Epoch 82/100\n"
     ]
    },
    {
     "name": "stdout",
     "output_type": "stream",
     "text": [
      "300/300 [==============================] - 0s 813us/step - loss: 2.1851e-04 - acc: 1.0000\n",
      "Epoch 83/100\n",
      "300/300 [==============================] - 0s 879us/step - loss: 2.0052e-04 - acc: 1.0000\n",
      "Epoch 84/100\n",
      "300/300 [==============================] - 0s 923us/step - loss: 1.9642e-04 - acc: 1.0000\n",
      "Epoch 85/100\n",
      "300/300 [==============================] - 0s 896us/step - loss: 1.8918e-04 - acc: 1.0000\n",
      "Epoch 86/100\n",
      "300/300 [==============================] - 0s 840us/step - loss: 1.8316e-04 - acc: 1.0000\n",
      "Epoch 87/100\n",
      "300/300 [==============================] - 0s 933us/step - loss: 1.7950e-04 - acc: 1.0000\n",
      "Epoch 88/100\n",
      "300/300 [==============================] - 0s 665us/step - loss: 1.7365e-04 - acc: 1.0000\n",
      "Epoch 89/100\n",
      "300/300 [==============================] - 0s 677us/step - loss: 1.7386e-04 - acc: 1.0000\n",
      "Epoch 90/100\n",
      "300/300 [==============================] - 0s 729us/step - loss: 1.6876e-04 - acc: 1.0000 0s - loss: 1.8974e-04 - acc: 1.000\n",
      "Epoch 91/100\n",
      "300/300 [==============================] - 0s 625us/step - loss: 1.6521e-04 - acc: 1.0000\n",
      "Epoch 92/100\n",
      "300/300 [==============================] - 0s 622us/step - loss: 1.5730e-04 - acc: 1.0000\n",
      "Epoch 93/100\n",
      "300/300 [==============================] - 0s 707us/step - loss: 1.5367e-04 - acc: 1.0000\n",
      "Epoch 94/100\n",
      "300/300 [==============================] - 0s 677us/step - loss: 1.5078e-04 - acc: 1.0000\n",
      "Epoch 95/100\n",
      "300/300 [==============================] - 0s 677us/step - loss: 1.5032e-04 - acc: 1.0000\n",
      "Epoch 96/100\n",
      "300/300 [==============================] - 0s 686us/step - loss: 1.4522e-04 - acc: 1.0000\n",
      "Epoch 97/100\n",
      "300/300 [==============================] - 0s 640us/step - loss: 1.4436e-04 - acc: 1.0000\n",
      "Epoch 98/100\n",
      "300/300 [==============================] - 0s 809us/step - loss: 1.3201e-04 - acc: 1.0000\n",
      "Epoch 99/100\n",
      "300/300 [==============================] - 0s 1ms/step - loss: 1.3275e-04 - acc: 1.0000\n",
      "Epoch 100/100\n",
      "300/300 [==============================] - 0s 1ms/step - loss: 1.2640e-04 - acc: 1.0000\n"
     ]
    },
    {
     "data": {
      "text/plain": [
       "<keras.callbacks.History at 0x210e15e8320>"
      ]
     },
     "execution_count": 113,
     "metadata": {},
     "output_type": "execute_result"
    }
   ],
   "source": [
    "Classifier_ADAM.fit(X_train,ytrain_trinary,epochs=epochs,batch_size =batch,callbacks=[history])"
   ]
  },
  {
   "cell_type": "code",
   "execution_count": 114,
   "metadata": {
    "scrolled": true
   },
   "outputs": [
    {
     "data": {
      "text/plain": [
       "<function matplotlib.pyplot.show(*args, **kw)>"
      ]
     },
     "execution_count": 114,
     "metadata": {},
     "output_type": "execute_result"
    },
    {
     "data": {
      "image/png": "[encoded data removed]",
      "text/plain": [
       "<Figure size 432x288 with 1 Axes>"
      ]
     },
     "metadata": {},
     "output_type": "display_data"
    }
   ],
   "source": [
    "#Plot\n",
    "loss_ADAM = history.history.get('loss')\n",
    "accuracy_ADAM = history.history.get('acc')\n",
    "plt.plot(loss_ADAM)\n",
    "plt.plot(accuracy_ADAM)\n",
    "plt.legend(['loss_ADAM','accuracy_ADAM'])\n",
    "plt.show"
   ]
  },
  {
   "cell_type": "markdown",
   "metadata": {},
   "source": [
    "# 4 Get Weights of each Layer\n",
    "\n",
    "\n",
    "A Dense layer performs the following operation: h = Wx + b. The first output is the weight matrix W and the second output is the bias vector b. "
   ]
  },
  {
   "cell_type": "code",
   "execution_count": 115,
   "metadata": {},
   "outputs": [
    {
     "data": {
      "text/plain": [
       "(5184, 128)"
      ]
     },
     "execution_count": 115,
     "metadata": {},
     "output_type": "execute_result"
    }
   ],
   "source": [
    "weight_SGD =Classifier_SGD.get_weights()[0]\n",
    "weight_SGD.shape"
   ]
  },
  {
   "cell_type": "code",
   "execution_count": 116,
   "metadata": {},
   "outputs": [
    {
     "data": {
      "text/plain": [
       "(5184, 128)"
      ]
     },
     "execution_count": 116,
     "metadata": {},
     "output_type": "execute_result"
    }
   ],
   "source": [
    "weight_ADAM=Classifier_ADAM.get_weights()[0]\n",
    "weight_ADAM.shape      "
   ]
  },
  {
   "cell_type": "markdown",
   "metadata": {},
   "source": [
    "# 5 A More Difficult Classification Problem\n",
    "\n",
    "This part aims at classifying shapes that locate randomly and change dimensions. metrics=['accuracy'] allows us to get the accuracy rate of the model in additional to the loss function. \n",
    "\n",
    "A 2D convolutional network is used on this new dataset. It is the input layer and has 16 feature maps, with the size of 5 * 5 and a rectifier activation function. Dataset needs to be reshaped to [samples][channels][width][height] in order to fit this model. Weigh and height equal to the root mean square of the shape of X. In the case of our data where the channels values are gray scale, the pixel dimension is set to 1.\n",
    "\n",
    "After the step of Pooling, I employed a regularization layer using dropout. It is configured torandomly exclude 20% of neurons in the layer in order to reduce overfitting. Flatten allows the output to be processed by standard fully connected layers. The last step is to build fully connected layers, whose structure is similiar to previous classification problem.\n",
    "\n",
    "### Results\n",
    "The accuray of the model is 78%. Convergence is reach around 60 epochs. Numerical results are satisfying, but the model is very time consuming. It remains to be improved.\n"
   ]
  },
  {
   "cell_type": "code",
   "execution_count": 117,
   "metadata": {},
   "outputs": [
    {
     "name": "stdout",
     "output_type": "stream",
     "text": [
      "Creating data:\n",
      "0\n",
      "10\n",
      "20\n",
      "30\n",
      "40\n",
      "50\n",
      "60\n",
      "70\n",
      "80\n",
      "90\n",
      "100\n",
      "110\n",
      "120\n",
      "130\n",
      "140\n",
      "150\n",
      "160\n",
      "170\n",
      "180\n",
      "190\n",
      "200\n",
      "210\n",
      "220\n",
      "230\n",
      "240\n",
      "250\n",
      "260\n",
      "270\n",
      "280\n",
      "290\n",
      "Creating data:\n",
      "0\n",
      "10\n",
      "20\n",
      "30\n",
      "40\n",
      "50\n",
      "60\n",
      "70\n",
      "80\n",
      "90\n",
      "100\n",
      "110\n",
      "120\n",
      "130\n",
      "140\n",
      "150\n",
      "160\n",
      "170\n",
      "180\n",
      "190\n",
      "200\n",
      "210\n",
      "220\n",
      "230\n",
      "240\n",
      "250\n",
      "260\n",
      "270\n",
      "280\n",
      "290\n"
     ]
    }
   ],
   "source": [
    "# Generate data with random position\n",
    "[X_train, Y_train] = generate_dataset_classification(300, 20, True)\n",
    "[X_test, Y_test] = generate_test_set_classification() \n"
   ]
  },
  {
   "cell_type": "code",
   "execution_count": 118,
   "metadata": {},
   "outputs": [],
   "source": [
    "# reshape to be [samples][channels][width][height]\n",
    "X_train_4D = X_train.reshape(X_train.shape[0],IMAGE_SIZE, IMAGE_SIZE ,1).astype('float32')\n",
    "X_test_4D = X_test.reshape(X_test.shape[0],IMAGE_SIZE, IMAGE_SIZE ,1).astype('float32')\n",
    "\n",
    "# one hot encode outputs\n",
    "Y_train_trinary = to_categorical(Y_train)\n",
    "Y_test_trinary = to_categorical(Y_test)"
   ]
  },
  {
   "cell_type": "code",
   "execution_count": 119,
   "metadata": {},
   "outputs": [],
   "source": [
    "def baseline_model(n):\n",
    "    '''Using Convolution2D,MaxPooling2D,Dropout and Dense to build CCN, the parameter <optimizer> is choosen and equal to adam '''\n",
    "    # Initialising the CNN\n",
    "    classifier = Sequential()\n",
    "\n",
    "    # Step - 1 Convolution\n",
    "    #The layer has 16 feature maps, with the size of 5 * 5 and a rectifier activation function. This is the input layer.\n",
    "    classifier.add(Convolution2D(16, 5, 5, input_shape=(72, 72, 1), activation='relu'))\n",
    "\n",
    "    # Step - 2 Pooling\n",
    "    classifier.add(MaxPooling2D(pool_size=(2, 2)))\n",
    "\n",
    "    classifier.add(Convolution2D(32, 3, 3, activation='relu'))\n",
    "    classifier.add(MaxPooling2D(pool_size=(2, 2)))\n",
    "    \n",
    "    #Dropout: regularization layer using dropout. It is configured torandomly exclude 20% of neurons in the layer in order to reduce overfitting.\n",
    "    classifier.add(Dropout(0.2))\n",
    "\n",
    "    # Step - 3 Flattening\n",
    "    #Flatten. It allows the output to be processed by standard fully connected layers.\n",
    "    classifier.add(Flatten())\n",
    "\n",
    "    # Step - 4 Full connection -> First layer input layer then hidden layer\n",
    "    # and last softmax layer\n",
    "    #a fully connected layer with 128 neurons and rectifier activation function is used.\n",
    "    classifier.add(Dense(128, input_dim=n, kernel_initializer='normal',activation='relu'))\n",
    "    classifier.add(Dense(64, kernel_initializer='normal',activation='relu'))\n",
    "    classifier.add(Dense(32, kernel_initializer='normal',activation='relu'))\n",
    "    classifier.add(Dense(3,kernel_initializer='normal',activation='softmax'))\n",
    "\n",
    "\n",
    "    # Compiling the CNN\n",
    "    classifier.compile(optimizer='adam', loss='categorical_crossentropy', metrics=['accuracy'])\n",
    "    \n",
    "    return classifier"
   ]
  },
  {
   "cell_type": "code",
   "execution_count": 121,
   "metadata": {},
   "outputs": [
    {
     "name": "stdout",
     "output_type": "stream",
     "text": [
      "Train on 300 samples, validate on 300 samples\n",
      "Epoch 1/100\n",
      "300/300 [==============================] - 11s 37ms/step - loss: 1.0985 - acc: 0.3233 - val_loss: 1.0959 - val_acc: 0.3367\n",
      "Epoch 2/100\n",
      "300/300 [==============================] - 9s 30ms/step - loss: 1.0934 - acc: 0.4033 - val_loss: 1.0903 - val_acc: 0.3433\n",
      "Epoch 3/100\n",
      "300/300 [==============================] - 9s 31ms/step - loss: 1.0762 - acc: 0.4167 - val_loss: 1.0569 - val_acc: 0.4600\n",
      "Epoch 4/100\n",
      "300/300 [==============================] - 10s 33ms/step - loss: 1.0504 - acc: 0.4533 - val_loss: 1.0207 - val_acc: 0.4400\n",
      "Epoch 5/100\n",
      "300/300 [==============================] - 9s 31ms/step - loss: 0.9755 - acc: 0.5033 - val_loss: 0.9291 - val_acc: 0.5867\n",
      "Epoch 6/100\n",
      "300/300 [==============================] - 10s 33ms/step - loss: 0.8677 - acc: 0.5967 - val_loss: 0.9556 - val_acc: 0.4733\n",
      "Epoch 7/100\n",
      "300/300 [==============================] - 10s 33ms/step - loss: 0.8289 - acc: 0.6200 - val_loss: 0.8795 - val_acc: 0.5367\n",
      "Epoch 8/100\n",
      "300/300 [==============================] - 9s 32ms/step - loss: 0.7503 - acc: 0.6667 - val_loss: 0.8186 - val_acc: 0.5867\n",
      "Epoch 9/100\n",
      "300/300 [==============================] - 10s 32ms/step - loss: 0.6932 - acc: 0.6833 - val_loss: 0.8232 - val_acc: 0.6800\n",
      "Epoch 10/100\n",
      "300/300 [==============================] - 9s 31ms/step - loss: 0.6671 - acc: 0.7167 - val_loss: 0.8331 - val_acc: 0.6600\n",
      "Epoch 11/100\n",
      "300/300 [==============================] - 10s 32ms/step - loss: 0.6997 - acc: 0.6967 - val_loss: 0.8587 - val_acc: 0.6567\n",
      "Epoch 12/100\n",
      "300/300 [==============================] - 10s 32ms/step - loss: 0.6959 - acc: 0.6967 - val_loss: 0.7651 - val_acc: 0.6667\n",
      "Epoch 13/100\n",
      "300/300 [==============================] - 9s 30ms/step - loss: 0.5928 - acc: 0.7667 - val_loss: 0.7874 - val_acc: 0.6433\n",
      "Epoch 14/100\n",
      "300/300 [==============================] - 9s 32ms/step - loss: 0.5490 - acc: 0.7733 - val_loss: 0.7907 - val_acc: 0.6433\n",
      "Epoch 15/100\n",
      "300/300 [==============================] - 9s 31ms/step - loss: 0.5192 - acc: 0.7867 - val_loss: 0.7472 - val_acc: 0.6667\n",
      "Epoch 16/100\n",
      "300/300 [==============================] - 9s 30ms/step - loss: 0.5075 - acc: 0.7900 - val_loss: 0.7938 - val_acc: 0.7267\n",
      "Epoch 17/100\n",
      "300/300 [==============================] - 9s 32ms/step - loss: 0.4633 - acc: 0.8167 - val_loss: 0.7967 - val_acc: 0.6700\n",
      "Epoch 18/100\n",
      "300/300 [==============================] - 10s 33ms/step - loss: 0.4320 - acc: 0.8333 - val_loss: 0.9109 - val_acc: 0.6567\n",
      "Epoch 19/100\n",
      "300/300 [==============================] - 10s 33ms/step - loss: 0.3981 - acc: 0.8333 - val_loss: 0.8799 - val_acc: 0.6633\n",
      "Epoch 20/100\n",
      "300/300 [==============================] - 10s 32ms/step - loss: 0.3932 - acc: 0.8333 - val_loss: 0.7622 - val_acc: 0.6867\n",
      "Epoch 21/100\n",
      "300/300 [==============================] - 10s 32ms/step - loss: 0.3248 - acc: 0.8767 - val_loss: 0.7652 - val_acc: 0.7000\n",
      "Epoch 22/100\n",
      "300/300 [==============================] - 9s 29ms/step - loss: 0.2651 - acc: 0.9133 - val_loss: 0.8117 - val_acc: 0.7000\n",
      "Epoch 23/100\n",
      "300/300 [==============================] - 9s 30ms/step - loss: 0.2115 - acc: 0.9200 - val_loss: 0.8523 - val_acc: 0.7300\n",
      "Epoch 24/100\n",
      "300/300 [==============================] - 9s 31ms/step - loss: 0.2218 - acc: 0.9167 - val_loss: 0.8062 - val_acc: 0.6967\n",
      "Epoch 25/100\n",
      "300/300 [==============================] - 9s 31ms/step - loss: 0.1520 - acc: 0.9567 - val_loss: 0.9122 - val_acc: 0.7167\n",
      "Epoch 26/100\n",
      "300/300 [==============================] - 10s 33ms/step - loss: 0.1302 - acc: 0.9600 - val_loss: 0.9757 - val_acc: 0.7367\n",
      "Epoch 27/100\n",
      "300/300 [==============================] - 9s 29ms/step - loss: 0.1186 - acc: 0.9667 - val_loss: 0.8963 - val_acc: 0.7200\n",
      "Epoch 28/100\n",
      "300/300 [==============================] - 9s 30ms/step - loss: 0.0921 - acc: 0.9700 - val_loss: 0.9910 - val_acc: 0.7133\n",
      "Epoch 29/100\n",
      "300/300 [==============================] - 9s 30ms/step - loss: 0.0672 - acc: 0.9833 - val_loss: 1.0762 - val_acc: 0.7167\n",
      "Epoch 30/100\n",
      "300/300 [==============================] - 9s 30ms/step - loss: 0.0635 - acc: 0.9800 - val_loss: 1.2397 - val_acc: 0.7067\n",
      "Epoch 31/100\n",
      "300/300 [==============================] - 8s 28ms/step - loss: 0.0730 - acc: 0.9700 - val_loss: 1.1280 - val_acc: 0.7233\n",
      "Epoch 32/100\n",
      "300/300 [==============================] - 9s 30ms/step - loss: 0.0392 - acc: 0.9900 - val_loss: 1.1853 - val_acc: 0.7433\n",
      "Epoch 33/100\n",
      "300/300 [==============================] - 10s 32ms/step - loss: 0.0371 - acc: 0.9900 - val_loss: 1.2108 - val_acc: 0.7067\n",
      "Epoch 34/100\n",
      "300/300 [==============================] - 9s 30ms/step - loss: 0.0308 - acc: 0.9900 - val_loss: 1.5345 - val_acc: 0.7033\n",
      "Epoch 35/100\n",
      "300/300 [==============================] - 9s 29ms/step - loss: 0.0299 - acc: 0.9967 - val_loss: 1.1717 - val_acc: 0.7467\n",
      "Epoch 36/100\n",
      "300/300 [==============================] - 8s 27ms/step - loss: 0.0315 - acc: 0.9900 - val_loss: 1.4515 - val_acc: 0.7200\n",
      "Epoch 37/100\n",
      "300/300 [==============================] - 9s 29ms/step - loss: 0.0508 - acc: 0.9767 - val_loss: 1.5555 - val_acc: 0.7000\n",
      "Epoch 38/100\n",
      "300/300 [==============================] - 9s 31ms/step - loss: 0.0471 - acc: 0.9867 - val_loss: 1.2057 - val_acc: 0.7133\n",
      "Epoch 39/100\n",
      "300/300 [==============================] - 9s 31ms/step - loss: 0.0159 - acc: 1.0000 - val_loss: 1.2718 - val_acc: 0.7267\n",
      "Epoch 40/100\n",
      "300/300 [==============================] - 9s 29ms/step - loss: 0.0088 - acc: 1.0000 - val_loss: 1.3141 - val_acc: 0.7467\n",
      "Epoch 41/100\n",
      "300/300 [==============================] - 9s 31ms/step - loss: 0.0110 - acc: 1.0000 - val_loss: 1.4112 - val_acc: 0.7433\n",
      "Epoch 42/100\n",
      "300/300 [==============================] - 9s 30ms/step - loss: 0.0083 - acc: 1.0000 - val_loss: 1.2906 - val_acc: 0.7400\n",
      "Epoch 43/100\n",
      "300/300 [==============================] - 9s 29ms/step - loss: 0.0054 - acc: 1.0000 - val_loss: 1.3483 - val_acc: 0.7567\n",
      "Epoch 44/100\n",
      "300/300 [==============================] - 9s 29ms/step - loss: 0.0035 - acc: 1.0000 - val_loss: 1.4394 - val_acc: 0.7567\n",
      "Epoch 45/100\n",
      "300/300 [==============================] - 8s 26ms/step - loss: 0.0026 - acc: 1.0000 - val_loss: 1.4444 - val_acc: 0.7467\n",
      "Epoch 46/100\n",
      "300/300 [==============================] - 9s 31ms/step - loss: 0.0030 - acc: 1.0000 - val_loss: 1.4496 - val_acc: 0.7500\n",
      "Epoch 47/100\n",
      "300/300 [==============================] - 9s 31ms/step - loss: 0.0051 - acc: 1.0000 - val_loss: 1.4760 - val_acc: 0.7267\n",
      "Epoch 48/100\n",
      "300/300 [==============================] - 9s 30ms/step - loss: 0.0026 - acc: 1.0000 - val_loss: 1.4821 - val_acc: 0.7467\n",
      "Epoch 49/100\n",
      "300/300 [==============================] - 9s 28ms/step - loss: 0.0037 - acc: 1.0000 - val_loss: 1.4818 - val_acc: 0.7433\n",
      "Epoch 50/100\n",
      "300/300 [==============================] - 9s 29ms/step - loss: 0.0022 - acc: 1.0000 - val_loss: 1.5141 - val_acc: 0.7633\n",
      "Epoch 51/100\n",
      "300/300 [==============================] - 9s 28ms/step - loss: 0.0018 - acc: 1.0000 - val_loss: 1.5524 - val_acc: 0.7567\n",
      "Epoch 52/100\n",
      "300/300 [==============================] - 9s 29ms/step - loss: 0.0015 - acc: 1.0000 - val_loss: 1.5687 - val_acc: 0.7633\n",
      "Epoch 53/100\n",
      "300/300 [==============================] - 9s 30ms/step - loss: 8.7064e-04 - acc: 1.0000 - val_loss: 1.5798 - val_acc: 0.7600\n",
      "Epoch 54/100\n",
      "300/300 [==============================] - 9s 29ms/step - loss: 0.0012 - acc: 1.0000 - val_loss: 1.5557 - val_acc: 0.7667\n",
      "Epoch 55/100\n",
      "300/300 [==============================] - 10s 33ms/step - loss: 0.0014 - acc: 1.0000 - val_loss: 1.5564 - val_acc: 0.7633\n",
      "Epoch 56/100\n",
      "300/300 [==============================] - 8s 28ms/step - loss: 0.0019 - acc: 1.0000 - val_loss: 1.5566 - val_acc: 0.7667\n",
      "Epoch 57/100\n",
      "300/300 [==============================] - 10s 33ms/step - loss: 8.4864e-04 - acc: 1.0000 - val_loss: 1.5653 - val_acc: 0.7633\n",
      "Epoch 58/100\n",
      "300/300 [==============================] - 10s 34ms/step - loss: 0.0011 - acc: 1.0000 - val_loss: 1.5789 - val_acc: 0.7633\n",
      "Epoch 59/100\n",
      "300/300 [==============================] - 9s 29ms/step - loss: 0.0011 - acc: 1.0000 - val_loss: 1.5819 - val_acc: 0.7633\n",
      "Epoch 60/100\n",
      "300/300 [==============================] - 10s 33ms/step - loss: 7.7817e-04 - acc: 1.0000 - val_loss: 1.5754 - val_acc: 0.7667\n",
      "Epoch 61/100\n"
     ]
    },
    {
     "name": "stdout",
     "output_type": "stream",
     "text": [
      "300/300 [==============================] - 9s 29ms/step - loss: 9.0208e-04 - acc: 1.0000 - val_loss: 1.5874 - val_acc: 0.7767\n",
      "Epoch 62/100\n",
      "300/300 [==============================] - 9s 29ms/step - loss: 5.2313e-04 - acc: 1.0000 - val_loss: 1.5866 - val_acc: 0.7667\n",
      "Epoch 63/100\n",
      "300/300 [==============================] - 9s 29ms/step - loss: 0.0014 - acc: 1.0000 - val_loss: 1.6140 - val_acc: 0.7633\n",
      "Epoch 64/100\n",
      "300/300 [==============================] - 9s 31ms/step - loss: 3.6831e-04 - acc: 1.0000 - val_loss: 1.6138 - val_acc: 0.7733\n",
      "Epoch 65/100\n",
      "300/300 [==============================] - 9s 29ms/step - loss: 5.5199e-04 - acc: 1.0000 - val_loss: 1.6129 - val_acc: 0.7533\n",
      "Epoch 66/100\n",
      "300/300 [==============================] - 8s 27ms/step - loss: 5.2982e-04 - acc: 1.0000 - val_loss: 1.6190 - val_acc: 0.7633\n",
      "Epoch 67/100\n",
      "300/300 [==============================] - 9s 29ms/step - loss: 2.6586e-04 - acc: 1.0000 - val_loss: 1.6846 - val_acc: 0.7733\n",
      "Epoch 68/100\n",
      "300/300 [==============================] - 8s 27ms/step - loss: 9.4624e-04 - acc: 1.0000 - val_loss: 1.6458 - val_acc: 0.7333\n",
      "Epoch 69/100\n",
      "300/300 [==============================] - 8s 27ms/step - loss: 9.1884e-04 - acc: 1.0000 - val_loss: 1.6686 - val_acc: 0.7667\n",
      "Epoch 70/100\n",
      "300/300 [==============================] - 8s 28ms/step - loss: 0.0013 - acc: 1.0000 - val_loss: 1.6958 - val_acc: 0.7267\n",
      "Epoch 71/100\n",
      "300/300 [==============================] - 9s 32ms/step - loss: 0.0023 - acc: 1.0000 - val_loss: 1.6857 - val_acc: 0.7633\n",
      "Epoch 72/100\n",
      "300/300 [==============================] - 8s 27ms/step - loss: 0.0012 - acc: 1.0000 - val_loss: 1.6545 - val_acc: 0.7467\n",
      "Epoch 73/100\n",
      "300/300 [==============================] - 10s 33ms/step - loss: 0.0010 - acc: 1.0000 - val_loss: 1.6373 - val_acc: 0.7633\n",
      "Epoch 74/100\n",
      "300/300 [==============================] - 9s 31ms/step - loss: 8.5854e-04 - acc: 1.0000 - val_loss: 1.7341 - val_acc: 0.7500\n",
      "Epoch 75/100\n",
      "300/300 [==============================] - 8s 28ms/step - loss: 0.0011 - acc: 1.0000 - val_loss: 1.6077 - val_acc: 0.7667\n",
      "Epoch 76/100\n",
      "300/300 [==============================] - 8s 27ms/step - loss: 3.5813e-04 - acc: 1.0000 - val_loss: 1.5749 - val_acc: 0.7733\n",
      "Epoch 77/100\n",
      "300/300 [==============================] - 10s 32ms/step - loss: 8.3710e-04 - acc: 1.0000 - val_loss: 1.6021 - val_acc: 0.7700\n",
      "Epoch 78/100\n",
      "300/300 [==============================] - 9s 30ms/step - loss: 5.6697e-04 - acc: 1.0000 - val_loss: 1.6165 - val_acc: 0.7700\n",
      "Epoch 79/100\n",
      "300/300 [==============================] - 9s 29ms/step - loss: 3.4942e-04 - acc: 1.0000 - val_loss: 1.6260 - val_acc: 0.7733\n",
      "Epoch 80/100\n",
      "300/300 [==============================] - 9s 31ms/step - loss: 3.4652e-04 - acc: 1.0000 - val_loss: 1.6217 - val_acc: 0.7800\n",
      "Epoch 81/100\n",
      "300/300 [==============================] - 9s 30ms/step - loss: 2.7522e-04 - acc: 1.0000 - val_loss: 1.6215 - val_acc: 0.7733\n",
      "Epoch 82/100\n",
      "300/300 [==============================] - 9s 31ms/step - loss: 1.7732e-04 - acc: 1.0000 - val_loss: 1.6239 - val_acc: 0.7700\n",
      "Epoch 83/100\n",
      "300/300 [==============================] - 9s 31ms/step - loss: 1.4033e-04 - acc: 1.0000 - val_loss: 1.6269 - val_acc: 0.7733\n",
      "Epoch 84/100\n",
      "300/300 [==============================] - 9s 32ms/step - loss: 1.9276e-04 - acc: 1.0000 - val_loss: 1.6357 - val_acc: 0.7733\n",
      "Epoch 85/100\n",
      "300/300 [==============================] - 10s 32ms/step - loss: 1.7600e-04 - acc: 1.0000 - val_loss: 1.6412 - val_acc: 0.7733\n",
      "Epoch 86/100\n",
      "300/300 [==============================] - 9s 30ms/step - loss: 2.1613e-04 - acc: 1.0000 - val_loss: 1.6541 - val_acc: 0.7733\n",
      "Epoch 87/100\n",
      "300/300 [==============================] - 10s 33ms/step - loss: 2.6320e-04 - acc: 1.0000 - val_loss: 1.6727 - val_acc: 0.7700\n",
      "Epoch 88/100\n",
      "300/300 [==============================] - 9s 29ms/step - loss: 9.4413e-05 - acc: 1.0000 - val_loss: 1.6798 - val_acc: 0.7700\n",
      "Epoch 89/100\n",
      "300/300 [==============================] - 9s 29ms/step - loss: 1.6451e-04 - acc: 1.0000 - val_loss: 1.6748 - val_acc: 0.7733\n",
      "Epoch 90/100\n",
      "300/300 [==============================] - 9s 30ms/step - loss: 2.2924e-04 - acc: 1.0000 - val_loss: 1.6712 - val_acc: 0.7733\n",
      "Epoch 91/100\n",
      "300/300 [==============================] - 9s 31ms/step - loss: 1.7453e-04 - acc: 1.0000 - val_loss: 1.6722 - val_acc: 0.7700\n",
      "Epoch 92/100\n",
      "300/300 [==============================] - 10s 32ms/step - loss: 1.1233e-04 - acc: 1.0000 - val_loss: 1.6748 - val_acc: 0.7733\n",
      "Epoch 93/100\n",
      "300/300 [==============================] - 9s 29ms/step - loss: 1.2234e-04 - acc: 1.0000 - val_loss: 1.6745 - val_acc: 0.7733\n",
      "Epoch 94/100\n",
      "300/300 [==============================] - 9s 31ms/step - loss: 1.3041e-04 - acc: 1.0000 - val_loss: 1.6733 - val_acc: 0.7700\n",
      "Epoch 95/100\n",
      "300/300 [==============================] - 9s 29ms/step - loss: 1.3749e-04 - acc: 1.0000 - val_loss: 1.6761 - val_acc: 0.7733\n",
      "Epoch 96/100\n",
      "300/300 [==============================] - 10s 34ms/step - loss: 1.2196e-04 - acc: 1.0000 - val_loss: 1.6816 - val_acc: 0.7700\n",
      "Epoch 97/100\n",
      "300/300 [==============================] - 11s 35ms/step - loss: 2.6775e-04 - acc: 1.0000 - val_loss: 1.6843 - val_acc: 0.7700\n",
      "Epoch 98/100\n",
      "300/300 [==============================] - 10s 34ms/step - loss: 3.9977e-04 - acc: 1.0000 - val_loss: 1.6989 - val_acc: 0.7433\n",
      "Epoch 99/100\n",
      "300/300 [==============================] - 10s 32ms/step - loss: 5.3599e-04 - acc: 1.0000 - val_loss: 1.6862 - val_acc: 0.7700\n",
      "Epoch 100/100\n",
      "300/300 [==============================] - 10s 35ms/step - loss: 1.4590e-04 - acc: 1.0000 - val_loss: 1.7790 - val_acc: 0.7667\n"
     ]
    },
    {
     "data": {
      "text/plain": [
       "<keras.callbacks.History at 0x210e4663128>"
      ]
     },
     "execution_count": 121,
     "metadata": {},
     "output_type": "execute_result"
    }
   ],
   "source": [
    "# build the model\n",
    "model = baseline_model(n_train)\n",
    "# Fit the model\n",
    "model.fit(X_train_4D, Y_train_trinary, validation_data=(X_test_4D, Y_test), epochs=epochs, batch_size=batch)\n"
   ]
  },
  {
   "cell_type": "code",
   "execution_count": 122,
   "metadata": {},
   "outputs": [
    {
     "data": {
      "text/plain": [
       "<function matplotlib.pyplot.show(*args, **kw)>"
      ]
     },
     "execution_count": 122,
     "metadata": {},
     "output_type": "execute_result"
    },
    {
     "data": {
      "image/png": "[encoded data removed]",
      "text/plain": [
       "<Figure size 432x288 with 1 Axes>"
      ]
     },
     "metadata": {},
     "output_type": "display_data"
    }
   ],
   "source": [
    "#Plot\n",
    "loss_ADAM_Conv = history.history.get('loss')\n",
    "accuracy_ADAM_Conv = history.history.get('acc')\n",
    "plt.plot(loss_ADAM_Conv)\n",
    "plt.plot(accuracy_ADAM_Conv)\n",
    "plt.legend(['loss_ADAM_Convolutional_2D','Accuracy_ADAM_Convolutional_2D'])\n",
    "plt.show"
   ]
  },
  {
   "cell_type": "code",
   "execution_count": 123,
   "metadata": {},
   "outputs": [
    {
     "name": "stdout",
     "output_type": "stream",
     "text": [
      "300/300 [==============================] - 1s 4ms/step\n",
      "CNN Error: 23.33%\n",
      "CNN Accuracy: 76.67%\n",
      "CNN Loss: 1.78\n"
     ]
    }
   ],
   "source": [
    "# Final evaluation of the model\n",
    "#.evaluate() computes the loss based on the input you pass it, along with any other metrics that you requested in the metrics param when you compiled your model \n",
    "scores = model.evaluate(X_test_4D, Y_test)\n",
    "print(\"CNN Error: %.2f%%\" % (100-scores[1]*100))\n",
    "print(\"CNN Accuracy: %.2f%%\" % (scores[1]*100))\n",
    "print(\"CNN Loss: %.2f\" % (scores[0]))"
   ]
  },
  {
   "cell_type": "markdown",
   "metadata": {},
   "source": [
    "# 6 A Regression Problem\n",
    "This part focus on prediction the location of the vertices of a triangle, given an image of this triangle. Images contain noises.\n",
    "\n",
    "I have normalized both inputs and outputs in order to get values between 0 and 1. My experiements show that convolutional networks don't help to improve accuracy, so I decide to employ fully connected layers to tackle this problem.\n",
    "\n",
    "A triangle can be identified with three points. In our dataset, the shape of Y_train is (300,6). Each simulation contains 6 values, which are [X(0),Y(0),X(1),Y(1),X(2),Y(2)]. The objectif is to predict these 6 values of each triangle.\n",
    "\n",
    "### Results\n",
    "The value of loss function is very small, the model seams to perform well. But differences between each data point [X(i),Y(i)] is too small. For this reason, the shape of predicted triangle is very small comparing to inputs. Another difficulty is that the shape of triangle is not very clear, and the presence of noise make the object location much more difficult.\n",
    "\n",
    "When the triangle's surface is big enough, the prediction located inside the input triangle. However, then the triangle shape is not clear, prediction result is poor.\n",
    "\n",
    "One possible reason for this error is that the model fail to realize that, each data point of a triangle is interchangeable. "
   ]
  },
  {
   "cell_type": "code",
   "execution_count": 124,
   "metadata": {},
   "outputs": [
    {
     "name": "stdout",
     "output_type": "stream",
     "text": [
      "Creating data:\n",
      "0\n",
      "10\n",
      "20\n",
      "30\n",
      "40\n",
      "50\n",
      "60\n",
      "70\n",
      "80\n",
      "90\n",
      "100\n",
      "110\n",
      "120\n",
      "130\n",
      "140\n",
      "150\n",
      "160\n",
      "170\n",
      "180\n",
      "190\n",
      "200\n",
      "210\n",
      "220\n",
      "230\n",
      "240\n",
      "250\n",
      "260\n",
      "270\n",
      "280\n",
      "290\n",
      "Creating data:\n",
      "0\n",
      "10\n",
      "20\n",
      "30\n",
      "40\n",
      "50\n",
      "60\n",
      "70\n",
      "80\n",
      "90\n",
      "100\n",
      "110\n",
      "120\n",
      "130\n",
      "140\n",
      "150\n",
      "160\n",
      "170\n",
      "180\n",
      "190\n",
      "200\n",
      "210\n",
      "220\n",
      "230\n",
      "240\n",
      "250\n",
      "260\n",
      "270\n",
      "280\n",
      "290\n"
     ]
    },
    {
     "data": {
      "image/png": "[encoded data removed]",
      "text/plain": [
       "<Figure size 360x360 with 1 Axes>"
      ]
     },
     "metadata": {},
     "output_type": "display_data"
    }
   ],
   "source": [
    "[X_train, Y_train] = generate_dataset_regression(300, 20)\n",
    "[X_test, Y_test] = generate_test_set_regression()\n",
    "visualize_prediction(X_train[0], Y_train[0])"
   ]
  },
  {
   "cell_type": "code",
   "execution_count": 125,
   "metadata": {},
   "outputs": [],
   "source": [
    "X_train_norm =(X_train - np.mean(X_train)) / np.std(X_train)\n",
    "X_test_norm =(X_test - np.mean(X_test)) / np.std(X_test)"
   ]
  },
  {
   "cell_type": "code",
   "execution_count": 126,
   "metadata": {},
   "outputs": [
    {
     "data": {
      "text/plain": [
       "((300, 6), 0.00690625371749478, 0.004011789596324513)"
      ]
     },
     "execution_count": 126,
     "metadata": {},
     "output_type": "execute_result"
    }
   ],
   "source": [
    "# Normalize x, y by img_size, so that all values are between 0 and 1.\n",
    "Y_train_norm = Y_train.reshape(Y_train.shape[0], -1) / IMAGE_SIZE\n",
    "Y_test_norm = Y_test.reshape(Y_test.shape[0], -1) / IMAGE_SIZE\n",
    "Y_test_norm.shape, np.mean(Y_test_norm), np.std(Y_test_norm)"
   ]
  },
  {
   "cell_type": "code",
   "execution_count": 127,
   "metadata": {},
   "outputs": [],
   "source": [
    "model = Sequential()\n",
    "model.add(Dense(128, input_dim=X_train_norm.shape[-1], kernel_initializer='normal',activation='relu'))\n",
    "# model.add(Dropout(0.2))\n",
    "model.add(Dense(64, kernel_initializer='normal',activation='relu'))\n",
    "# model.add(Dropout(0.2))\n",
    "model.add(Dense(32, kernel_initializer='normal',activation='relu'))\n",
    "# model.add(Dropout(0.2))\n",
    "model.add(Dense(3,kernel_initializer='normal',activation='relu'))\n",
    "# model.add(Dropout(0.2))\n",
    "model.add(Dense(Y_train_norm.shape[-1]))\n",
    "model.compile(optimizer='adadelta', loss='mse')"
   ]
  },
  {
   "cell_type": "code",
   "execution_count": 128,
   "metadata": {},
   "outputs": [
    {
     "name": "stdout",
     "output_type": "stream",
     "text": [
      "Train on 300 samples, validate on 300 samples\n",
      "Epoch 1/20\n",
      " - 2s - loss: 0.0011 - val_loss: 1.5316e-04\n",
      "Epoch 2/20\n",
      " - 0s - loss: 8.8145e-05 - val_loss: 9.2413e-05\n",
      "Epoch 3/20\n",
      " - 0s - loss: 5.1533e-05 - val_loss: 6.7113e-05\n",
      "Epoch 4/20\n",
      " - 0s - loss: 3.5858e-05 - val_loss: 5.2121e-05\n",
      "Epoch 5/20\n",
      " - 0s - loss: 2.7288e-05 - val_loss: 4.3973e-05\n",
      "Epoch 6/20\n",
      " - 0s - loss: 2.2891e-05 - val_loss: 3.8211e-05\n",
      "Epoch 7/20\n",
      " - 0s - loss: 2.0537e-05 - val_loss: 3.4749e-05\n",
      "Epoch 8/20\n",
      " - 0s - loss: 1.9302e-05 - val_loss: 3.2347e-05\n",
      "Epoch 9/20\n",
      " - 0s - loss: 1.8643e-05 - val_loss: 3.0696e-05\n",
      "Epoch 10/20\n",
      " - 0s - loss: 1.8156e-05 - val_loss: 2.9407e-05\n",
      "Epoch 11/20\n",
      " - 0s - loss: 1.7856e-05 - val_loss: 2.8210e-05\n",
      "Epoch 12/20\n",
      " - 0s - loss: 1.7598e-05 - val_loss: 2.7167e-05\n",
      "Epoch 13/20\n",
      " - 0s - loss: 1.7415e-05 - val_loss: 2.6391e-05\n",
      "Epoch 14/20\n",
      " - 0s - loss: 1.7249e-05 - val_loss: 2.5701e-05\n",
      "Epoch 15/20\n",
      " - 0s - loss: 1.7190e-05 - val_loss: 2.5217e-05\n",
      "Epoch 16/20\n",
      " - 0s - loss: 1.7063e-05 - val_loss: 2.4654e-05\n",
      "Epoch 17/20\n",
      " - 0s - loss: 1.7090e-05 - val_loss: 2.4628e-05\n",
      "Epoch 18/20\n",
      " - 0s - loss: 1.7033e-05 - val_loss: 2.4018e-05\n",
      "Epoch 19/20\n",
      " - 0s - loss: 1.7022e-05 - val_loss: 2.3838e-05\n",
      "Epoch 20/20\n",
      " - 0s - loss: 1.6994e-05 - val_loss: 2.3785e-05\n"
     ]
    },
    {
     "data": {
      "text/plain": [
       "<keras.callbacks.History at 0x2108b808940>"
      ]
     },
     "execution_count": 128,
     "metadata": {},
     "output_type": "execute_result"
    }
   ],
   "source": [
    "model.fit(X_train_norm, Y_train_norm, validation_data=(X_test_norm, Y_test_norm), epochs=20, batch_size=batch,verbose=2,callbacks=[history])"
   ]
  },
  {
   "cell_type": "code",
   "execution_count": 129,
   "metadata": {},
   "outputs": [
    {
     "data": {
      "text/plain": [
       "<function matplotlib.pyplot.show(*args, **kw)>"
      ]
     },
     "execution_count": 129,
     "metadata": {},
     "output_type": "execute_result"
    },
    {
     "data": {
      "image/png": "[encoded data removed]",
      "text/plain": [
       "<Figure size 432x288 with 1 Axes>"
      ]
     },
     "metadata": {},
     "output_type": "display_data"
    }
   ],
   "source": [
    "loss_ADAM_locations = history.history.get('loss')\n",
    "\n",
    "plt.plot(loss_ADAM_locations)\n",
    "plt.legend(['loss_ADAM_Locations'])\n",
    "plt.show"
   ]
  },
  {
   "cell_type": "code",
   "execution_count": 130,
   "metadata": {},
   "outputs": [],
   "source": [
    "# Predict bounding boxes on the test images.\n",
    "pred_Y = model.predict(X_test_norm)\n",
    "pred_triangles = pred_Y * IMAGE_SIZE"
   ]
  },
  {
   "cell_type": "code",
   "execution_count": 131,
   "metadata": {},
   "outputs": [],
   "source": [
    "def visualize_prediction(x, y):\n",
    "    fig, ax = plt.subplots(figsize=(5, 5))\n",
    "    I = x.reshape((IMAGE_SIZE,IMAGE_SIZE))\n",
    "    ax.imshow(I, extent=[-0.15,1.15,-0.15,1.15],cmap='gray')\n",
    "    ax.set_xlim([0,1])\n",
    "    ax.set_ylim([0,1])\n",
    "\n",
    "    xy = y.reshape(3,2)\n",
    "    tri = patches.Polygon(xy, closed=True, fill = False, edgecolor = 'r', linewidth = 5, alpha = 0.5)\n",
    "    ax.add_patch(tri)\n",
    "\n",
    "    plt.show()"
   ]
  },
  {
   "cell_type": "code",
   "execution_count": 132,
   "metadata": {
    "scrolled": true
   },
   "outputs": [
    {
     "data": {
      "image/png": "[encoded data removed]",
      "text/plain": [
       "<Figure size 360x360 with 1 Axes>"
      ]
     },
     "metadata": {},
     "output_type": "display_data"
    },
    {
     "data": {
      "text/plain": [
       "array([0.44416567, 0.33037206, 0.45311888, 0.67686012, 0.87141638,\n",
       "       0.30311524])"
      ]
     },
     "metadata": {},
     "output_type": "display_data"
    },
    {
     "data": {
      "text/plain": [
       "array([0.49621665, 0.52801275, 0.48637867, 0.51591307, 0.5189488 ,\n",
       "       0.41540796], dtype=float32)"
      ]
     },
     "metadata": {},
     "output_type": "display_data"
    },
    {
     "data": {
      "image/png": "[encoded data removed]",
      "text/plain": [
       "<Figure size 360x360 with 1 Axes>"
      ]
     },
     "metadata": {},
     "output_type": "display_data"
    },
    {
     "data": {
      "text/plain": [
       "array([0.62208022, 0.14731968, 0.25730081, 0.48896147, 0.18250246,\n",
       "       0.57415514])"
      ]
     },
     "metadata": {},
     "output_type": "display_data"
    },
    {
     "data": {
      "text/plain": [
       "array([0.49621665, 0.52801275, 0.48637867, 0.51591307, 0.5189488 ,\n",
       "       0.41540796], dtype=float32)"
      ]
     },
     "metadata": {},
     "output_type": "display_data"
    },
    {
     "data": {
      "image/png": "[encoded data removed]",
      "text/plain": [
       "<Figure size 360x360 with 1 Axes>"
      ]
     },
     "metadata": {},
     "output_type": "display_data"
    },
    {
     "data": {
      "text/plain": [
       "array([0.79051217, 0.8570231 , 0.81355856, 0.21326272, 0.09218341,\n",
       "       0.62794772])"
      ]
     },
     "metadata": {},
     "output_type": "display_data"
    },
    {
     "data": {
      "text/plain": [
       "array([0.49621665, 0.52801275, 0.48637867, 0.51591307, 0.5189488 ,\n",
       "       0.41540796], dtype=float32)"
      ]
     },
     "metadata": {},
     "output_type": "display_data"
    },
    {
     "data": {
      "image/png": "[encoded data removed]",
      "text/plain": [
       "<Figure size 360x360 with 1 Axes>"
      ]
     },
     "metadata": {},
     "output_type": "display_data"
    },
    {
     "data": {
      "text/plain": [
       "array([0.61134504, 0.77155581, 0.21487756, 0.22677233, 0.39666126,\n",
       "       0.45811595])"
      ]
     },
     "metadata": {},
     "output_type": "display_data"
    },
    {
     "data": {
      "text/plain": [
       "array([0.49621665, 0.52801275, 0.48637867, 0.51591307, 0.5189488 ,\n",
       "       0.41540796], dtype=float32)"
      ]
     },
     "metadata": {},
     "output_type": "display_data"
    },
    {
     "data": {
      "image/png": "[encoded data removed]",
      "text/plain": [
       "<Figure size 360x360 with 1 Axes>"
      ]
     },
     "metadata": {},
     "output_type": "display_data"
    },
    {
     "data": {
      "text/plain": [
       "array([0.6246601 , 0.13500592, 0.58837558, 0.02786487, 0.5433922 ,\n",
       "       0.73977445])"
      ]
     },
     "metadata": {},
     "output_type": "display_data"
    },
    {
     "data": {
      "text/plain": [
       "array([0.49621665, 0.52801275, 0.48637867, 0.51591307, 0.5189488 ,\n",
       "       0.41540796], dtype=float32)"
      ]
     },
     "metadata": {},
     "output_type": "display_data"
    }
   ],
   "source": [
    "# 18,54,73,82\n",
    "\n",
    "triangles =[18,82,156,254,288]\n",
    "for i in triangles:\n",
    "    visualize_prediction(X_test[i],pred_triangles[i])\n",
    "    display(Y_test[i])\n",
    "    display(pred_triangles[i])\n"
   ]
  },
  {
   "cell_type": "markdown",
   "metadata": {},
   "source": [
    "# 7. Denoising\n",
    "\n",
    "In this part, I have modified the generate_a_* function on order to have it returned images with and without noise. The denoising procedure should be donne with encoder and decoder."
   ]
  },
  {
   "cell_type": "code",
   "execution_count": 133,
   "metadata": {},
   "outputs": [],
   "source": [
    "def generate_a_rectangle_bis(noise=0.0, free_location=False):\n",
    "    figsize = 1.0    \n",
    "    U = np.zeros(4)\n",
    "    V = np.zeros(4)\n",
    "    if free_location:\n",
    "        corners = np.random.random(4)\n",
    "        top = max(corners[0], corners[1])\n",
    "        bottom = min(corners[0], corners[1])\n",
    "        left = min(corners[2], corners[3])\n",
    "        right = max(corners[2], corners[3])\n",
    "    else:\n",
    "        side = (0.3 + 0.7 * np.random.random()) * figsize\n",
    "        top = figsize/2 + side/2\n",
    "        bottom = figsize/2 - side/2\n",
    "        left = bottom\n",
    "        right = top\n",
    "    U[0] = U[1] = top\n",
    "    U[2] = U[3] = bottom\n",
    "    V[0] = V[3] = left\n",
    "    V[1] = V[2] = right\n",
    "    im_rectangle=generate_a_drawing(figsize, U, V, noise)\n",
    "    im_rectangle_no_noise=generate_a_drawing(figsize, U, V, 0.0)\n",
    "    \n",
    "    return [im_rectangle,im_rectangle_no_noise]\n",
    "\n",
    "def generate_a_disk_bis(noise=0.0, free_location=False):\n",
    "    figsize = 1.0\n",
    "    if free_location:\n",
    "        center = np.random.random(2)\n",
    "    else:\n",
    "        center = (figsize/2, figsize/2)\n",
    "    radius = (0.3 + 0.7 * np.random.random()) * figsize/2\n",
    "    N = 50\n",
    "    U = np.zeros(N)\n",
    "    V = np.zeros(N)\n",
    "    i = 0\n",
    "    for t in np.linspace(0, 2*np.pi, N):\n",
    "        U[i] = center[0] + np.cos(t) * radius\n",
    "        V[i] = center[1] + np.sin(t) * radius\n",
    "        i = i + 1\n",
    "    im_disk= generate_a_drawing(figsize, U, V, noise)\n",
    "    im_dis_no_noise=generate_a_drawing(figsize, U, V, 0.0)\n",
    "    return [im_disk,im_dis_no_noise]\n",
    "\n",
    "def generate_a_triangle_bis(noise=0.0, free_location=False):\n",
    "    figsize = 1.0\n",
    "    if free_location:\n",
    "        U = np.random.random(3)\n",
    "        V = np.random.random(3)\n",
    "\n",
    "    else:\n",
    "        size = (0.3 + 0.7 * np.random.random())*figsize/2\n",
    "        middle = figsize/2\n",
    "        U = (middle, middle+size, middle-size)\n",
    "        V = (middle+size, middle-size, middle-size)\n",
    "\n",
    "        \n",
    "    imdata = generate_a_drawing(figsize, U, V, noise)\n",
    "    imdata_no_noise= generate_a_drawing(figsize, U, V, 0.0)\n",
    "    return [[imdata, [U[0], V[0], U[1], V[1], U[2], V[2]]],[imdata_no_noise, [U[0], V[0], U[1], V[1], U[2], V[2]]]]"
   ]
  },
  {
   "cell_type": "code",
   "execution_count": 134,
   "metadata": {},
   "outputs": [
    {
     "data": {
      "text/plain": [
       "<matplotlib.image.AxesImage at 0x2108c2db588>"
      ]
     },
     "metadata": {},
     "output_type": "display_data"
    },
    {
     "data": {
      "image/png": "[encoded data removed]",
      "text/plain": [
       "<Figure size 432x288 with 1 Axes>"
      ]
     },
     "metadata": {},
     "output_type": "display_data"
    }
   ],
   "source": [
    "[[im_triangle,v],[im_triangle_no_noise,v]]= generate_a_triangle_bis(20, False)\n",
    "display(plt.imshow(im_triangle.reshape(IMAGE_SIZE,IMAGE_SIZE), cmap='gray'))"
   ]
  },
  {
   "cell_type": "code",
   "execution_count": 135,
   "metadata": {},
   "outputs": [
    {
     "data": {
      "text/plain": [
       "<matplotlib.image.AxesImage at 0x2108c32dac8>"
      ]
     },
     "execution_count": 135,
     "metadata": {},
     "output_type": "execute_result"
    },
    {
     "data": {
      "image/png": "[encoded data removed]",
      "text/plain": [
       "<Figure size 432x288 with 1 Axes>"
      ]
     },
     "metadata": {},
     "output_type": "display_data"
    }
   ],
   "source": [
    "plt.imshow(im_triangle_no_noise.reshape(IMAGE_SIZE,IMAGE_SIZE), cmap='gray')"
   ]
  },
  {
   "cell_type": "code",
   "execution_count": 136,
   "metadata": {},
   "outputs": [
    {
     "data": {
      "text/plain": [
       "<matplotlib.image.AxesImage at 0x21090311160>"
      ]
     },
     "execution_count": 136,
     "metadata": {},
     "output_type": "execute_result"
    },
    {
     "data": {
      "image/png": "[encoded data removed]",
      "text/plain": [
       "<Figure size 432x288 with 1 Axes>"
      ]
     },
     "metadata": {},
     "output_type": "display_data"
    }
   ],
   "source": [
    "[im_rectangle,im_rectangle_no_noise]= generate_a_rectangle_bis(20, False)\n",
    "plt.imshow(im_rectangle.reshape(IMAGE_SIZE,IMAGE_SIZE), cmap='gray')\n"
   ]
  },
  {
   "cell_type": "code",
   "execution_count": 137,
   "metadata": {},
   "outputs": [
    {
     "data": {
      "text/plain": [
       "<matplotlib.image.AxesImage at 0x21090362908>"
      ]
     },
     "execution_count": 137,
     "metadata": {},
     "output_type": "execute_result"
    },
    {
     "data": {
      "image/png": "[encoded data removed]",
      "text/plain": [
       "<Figure size 432x288 with 1 Axes>"
      ]
     },
     "metadata": {},
     "output_type": "display_data"
    }
   ],
   "source": [
    "plt.imshow(im_rectangle_no_noise.reshape(IMAGE_SIZE,IMAGE_SIZE), cmap='gray')"
   ]
  },
  {
   "cell_type": "code",
   "execution_count": 138,
   "metadata": {},
   "outputs": [
    {
     "data": {
      "text/plain": [
       "<matplotlib.image.AxesImage at 0x21090426080>"
      ]
     },
     "execution_count": 138,
     "metadata": {},
     "output_type": "execute_result"
    },
    {
     "data": {
      "image/png": "[encoded data removed]",
      "text/plain": [
       "<Figure size 432x288 with 1 Axes>"
      ]
     },
     "metadata": {},
     "output_type": "display_data"
    }
   ],
   "source": [
    "[im_disk,im_disk_no_noise]= generate_a_disk_bis(20, False)\n",
    "plt.imshow(im_disk.reshape(IMAGE_SIZE,IMAGE_SIZE), cmap='gray')"
   ]
  },
  {
   "cell_type": "code",
   "execution_count": 139,
   "metadata": {},
   "outputs": [
    {
     "data": {
      "text/plain": [
       "<matplotlib.image.AxesImage at 0x21090478828>"
      ]
     },
     "execution_count": 139,
     "metadata": {},
     "output_type": "execute_result"
    },
    {
     "data": {
      "image/png": "[encoded data removed]",
      "text/plain": [
       "<Figure size 432x288 with 1 Axes>"
      ]
     },
     "metadata": {},
     "output_type": "display_data"
    }
   ],
   "source": [
    "plt.imshow(im_disk_no_noise.reshape(IMAGE_SIZE,IMAGE_SIZE), cmap='gray')"
   ]
  },
  {
   "cell_type": "code",
   "execution_count": 140,
   "metadata": {},
   "outputs": [],
   "source": [
    "def generate_dataset_classification_bis(nb_samples, noise=0.0, free_location=False):\n",
    "    # Getting im_size:\n",
    "    im_size = generate_a_rectangle().shape[0]\n",
    "    X = np.zeros([nb_samples,im_size])\n",
    "    X_no_noise = np.zeros([nb_samples,im_size])\n",
    "    Y = np.zeros(nb_samples)\n",
    "    print('Creating data:')\n",
    "    for i in range(nb_samples):\n",
    "        if i % 10 == 0:\n",
    "            print(i)\n",
    "        category = np.random.randint(3)\n",
    "        if category == 0:\n",
    "            [X[i],X_no_noise[i]] = generate_a_rectangle_bis(noise, free_location)\n",
    "        elif category == 1: \n",
    "            [X[i],X_no_noise[i]] = generate_a_disk_bis(noise, free_location)\n",
    "        else:\n",
    "            [[X[i], V],[X_no_noise[i], V_no_noise]] = generate_a_triangle_bis(noise, free_location)\n",
    "        Y[i] = category\n",
    "    X = (X + noise) / (255 + 2 * noise)\n",
    "    X_no_noise = X/255\n",
    "    return [[X, Y],[X_no_noise,Y]]\n",
    "\n",
    "def generate_test_set_classification_bis():\n",
    "    np.random.seed(42)\n",
    "    [X_test, Y_test] = generate_dataset_classification_bis(300, 20, True)\n",
    "    Y_test = np_utils.to_categorical(Y_test, 3) \n",
    "    return [X_test, Y_test]"
   ]
  },
  {
   "cell_type": "code",
   "execution_count": 141,
   "metadata": {},
   "outputs": [
    {
     "name": "stdout",
     "output_type": "stream",
     "text": [
      "Creating data:\n",
      "0\n",
      "10\n",
      "20\n",
      "30\n",
      "40\n",
      "50\n",
      "60\n",
      "70\n",
      "80\n",
      "90\n",
      "100\n",
      "110\n",
      "120\n",
      "130\n",
      "140\n",
      "150\n",
      "160\n",
      "170\n",
      "180\n",
      "190\n",
      "200\n",
      "210\n",
      "220\n",
      "230\n",
      "240\n",
      "250\n",
      "260\n",
      "270\n",
      "280\n",
      "290\n"
     ]
    }
   ],
   "source": [
    "[[X_train,Y_train],[X_train_noise,Y_train]] = generate_dataset_classification_bis(300,20,True)"
   ]
  },
  {
   "cell_type": "code",
   "execution_count": null,
   "metadata": {},
   "outputs": [],
   "source": []
  },
  {
   "cell_type": "code",
   "execution_count": null,
   "metadata": {},
   "outputs": [],
   "source": []
  }
 ],
 "metadata": {
  "kernelspec": {
   "display_name": "Python 3",
   "language": "python",
   "name": "python3"
  },
  "language_info": {
   "codemirror_mode": {
    "name": "ipython",
    "version": 3
   },
   "file_extension": ".py",
   "mimetype": "text/x-python",
   "name": "python",
   "nbconvert_exporter": "python",
   "pygments_lexer": "ipython3",
   "version": "3.6.5"
  }
 },
 "nbformat": 4,
 "nbformat_minor": 2
}
