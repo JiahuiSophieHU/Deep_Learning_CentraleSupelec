{
 "cells": [
  {
   "cell_type": "code",
   "execution_count": 1,
   "metadata": {},
   "outputs": [
    {
     "name": "stderr",
     "output_type": "stream",
     "text": [
      "Using TensorFlow backend.\n"
     ]
    }
   ],
   "source": [
    "import matplotlib.pyplot as plt\n",
    "import matplotlib.patches as patches\n",
    "%matplotlib inline\n",
    "import numpy as np\n",
    "\n",
    "import warnings\n",
    "warnings.filterwarnings(\"ignore\")\n",
    "\n",
    "# CNN packages\n",
    "import keras\n",
    "from keras.models import Sequential\n",
    "from keras.layers import Dense,Activation\n",
    "from keras.utils import to_categorical\n",
    "from keras.layers import Convolution2D,MaxPooling2D,Flatten,Dropout\n"
   ]
  },
  {
   "cell_type": "code",
   "execution_count": 5,
   "metadata": {},
   "outputs": [],
   "source": [
    "# inputs\n",
    "IMAGE_SIZE = 72 # IMAGE_SIZE*IMAGE_SIZE=nb of columns in dataset\n",
    "batch = 32\n",
    "epochs = 100 # parameter to test convergence"
   ]
  },
  {
   "cell_type": "code",
   "execution_count": 6,
   "metadata": {
    "scrolled": true
   },
   "outputs": [
    {
     "data": {
      "image/png": "[encoded data removed]",
      "text/plain": [
       "<Figure size 432x288 with 1 Axes>"
      ]
     },
     "metadata": {},
     "output_type": "display_data"
    }
   ],
   "source": [
    "def generate_a_drawing(figsize, U, V, noise=0.0):\n",
    "    fig = plt.figure(figsize=(figsize,figsize))\n",
    "    ax = plt.subplot(111)\n",
    "    plt.axis('Off')\n",
    "    ax.set_xlim(0,figsize)\n",
    "    ax.set_ylim(0,figsize)\n",
    "    ax.fill(U, V, \"k\")\n",
    "    fig.canvas.draw()\n",
    "    imdata = np.frombuffer(fig.canvas.tostring_rgb(), dtype=np.uint8)[::3].astype(np.float32)\n",
    "    imdata = imdata + noise * np.random.random(imdata.size)\n",
    "    plt.close(fig)\n",
    "    return imdata\n",
    "\n",
    "def generate_a_rectangle(noise=0.0, free_location=False):\n",
    "    figsize = 1.0    \n",
    "    U = np.zeros(4)\n",
    "    V = np.zeros(4)\n",
    "    if free_location:\n",
    "        corners = np.random.random(4)\n",
    "        top = max(corners[0], corners[1])\n",
    "        bottom = min(corners[0], corners[1])\n",
    "        left = min(corners[2], corners[3])\n",
    "        right = max(corners[2], corners[3])\n",
    "    else:\n",
    "        side = (0.3 + 0.7 * np.random.random()) * figsize\n",
    "        top = figsize/2 + side/2\n",
    "        bottom = figsize/2 - side/2\n",
    "        left = bottom\n",
    "        right = top\n",
    "    U[0] = U[1] = top\n",
    "    U[2] = U[3] = bottom\n",
    "    V[0] = V[3] = left\n",
    "    V[1] = V[2] = right\n",
    "    return generate_a_drawing(figsize, U, V, noise)\n",
    "\n",
    "\n",
    "def generate_a_disk(noise=0.0, free_location=False):\n",
    "    figsize = 1.0\n",
    "    if free_location:\n",
    "        center = np.random.random(2)\n",
    "    else:\n",
    "        center = (figsize/2, figsize/2)\n",
    "    radius = (0.3 + 0.7 * np.random.random()) * figsize/2\n",
    "    N = 50\n",
    "    U = np.zeros(N)\n",
    "    V = np.zeros(N)\n",
    "    i = 0\n",
    "    for t in np.linspace(0, 2*np.pi, N):\n",
    "        U[i] = center[0] + np.cos(t) * radius\n",
    "        V[i] = center[1] + np.sin(t) * radius\n",
    "        i = i + 1\n",
    "    return generate_a_drawing(figsize, U, V, noise)\n",
    "\n",
    "def generate_a_triangle(noise=0.0, free_location=False):\n",
    "    figsize = 1.0\n",
    "    if free_location:\n",
    "        U = np.random.random(3)\n",
    "        V = np.random.random(3)\n",
    "    else:\n",
    "        size = (0.3 + 0.7 * np.random.random())*figsize/2\n",
    "        middle = figsize/2\n",
    "        U = (middle, middle+size, middle-size)\n",
    "        V = (middle+size, middle-size, middle-size)\n",
    "    imdata = generate_a_drawing(figsize, U, V, noise)\n",
    "    return [imdata, [U[0], V[0], U[1], V[1], U[2], V[2]]]\n",
    "\n",
    "\n",
    "im = generate_a_rectangle(10, True)\n",
    "plt.imshow(im.reshape(IMAGE_SIZE,IMAGE_SIZE), cmap='gray')\n",
    "\n",
    "\n",
    "im = generate_a_disk(10)\n",
    "plt.imshow(im.reshape(IMAGE_SIZE,IMAGE_SIZE), cmap='gray')\n",
    "\n",
    "\n",
    "[im, v] = generate_a_triangle(20, False)\n",
    "plt.imshow(im.reshape(IMAGE_SIZE,IMAGE_SIZE), cmap='gray')\n",
    "\n",
    "\n",
    "\n",
    "def generate_dataset_classification(nb_samples, noise=0.0, free_location=False):\n",
    "    # Getting im_size:\n",
    "    im_size = generate_a_rectangle().shape[0]\n",
    "    X = np.zeros([nb_samples,im_size])\n",
    "    Y = np.zeros(nb_samples)\n",
    "    print('Creating data:')\n",
    "    for i in range(nb_samples):\n",
    "        if i % 10 == 0:\n",
    "            print(i)\n",
    "        category = np.random.randint(3)\n",
    "        if category == 0:\n",
    "            X[i] = generate_a_rectangle(noise, free_location)\n",
    "        elif category == 1: \n",
    "            X[i] = generate_a_disk(noise, free_location)\n",
    "        else:\n",
    "            [X[i], V] = generate_a_triangle(noise, free_location)\n",
    "        Y[i] = category\n",
    "    X = (X + noise) / (255 + 2 * noise)\n",
    "    return [X, Y]\n",
    "\n",
    "def generate_test_set_classification():\n",
    "    np.random.seed(42)\n",
    "    [X_test, Y_test] = generate_dataset_classification(300, 20, True)\n",
    "    Y_test = np_utils.to_categorical(Y_test, 3) \n",
    "    return [X_test, Y_test]\n",
    "\n",
    "def generate_dataset_regression(nb_samples, noise=0.0):\n",
    "    # Getting im_size:\n",
    "    im_size = generate_a_triangle()[0].shape[0]\n",
    "    X = np.zeros([nb_samples,im_size])\n",
    "    Y = np.zeros([nb_samples, 6])\n",
    "    print('Creating data:')\n",
    "    for i in range(nb_samples):\n",
    "        if i % 10 == 0:\n",
    "            print(i)\n",
    "        [X[i], Y[i]] = generate_a_triangle(noise, True)\n",
    "    X = (X + noise) / (255 + 2 * noise)\n",
    "    return [X, Y]\n",
    "\n",
    "# import matplotlib.patches as patches\n",
    "\n",
    "def visualize_prediction(x, y):\n",
    "    fig, ax = plt.subplots(figsize=(5, 5))\n",
    "    I = x.reshape((IMAGE_SIZE,IMAGE_SIZE))\n",
    "    ax.imshow(I, extent=[-0.15,1.15,-0.15,1.15],cmap='gray')\n",
    "    ax.set_xlim([0,1])\n",
    "    ax.set_ylim([0,1])\n",
    "\n",
    "    xy = y.reshape(3,2)\n",
    "    tri = patches.Polygon(xy, closed=True, fill = False, edgecolor = 'r', linewidth = 5, alpha = 0.5)\n",
    "    ax.add_patch(tri)\n",
    "\n",
    "    plt.show()\n",
    "\n",
    "def generate_test_set_regression():\n",
    "    np.random.seed(42)\n",
    "    [X_test, Y_test] = generate_dataset_regression(300, 20)\n",
    "    return [X_test, Y_test]"
   ]
  },
  {
   "cell_type": "markdown",
   "metadata": {},
   "source": [
    "# 3.Simple Classification\n",
    "\n",
    "In order to classify images of rectangles, disks and triangles, images can contains noises or not, four layers with 128,62, 32 and 3 hidden units(neurons) are used in order to define the model. These fully connected layers are defined with Dense. I have chosen these features after several experiments, and concluded that this network is large enough to capture the structure of our dataset. \n",
    "\n",
    "The three first activation arguments are rectifier (\"relu\") and the last one is \"softmax\" for the last layer. A rectified linear unit has output 0 if the input is less than 0, and raw output otherwise. That is, if the input is greater than 0, the output is equal to the input. \n",
    "\n",
    "\"Softmax\" is chosen for the last layer because it is suitable for classification problems. Its output is equivalent to a categorical probability distribution. \n",
    "\n",
    "For the Compile model, our targets are one-hot encoded, so I set the <loss> parameter with \"categorical_crossentropy\". Here, the batch size, i.e. the number of samples that propagate through the network, is 32.\n",
    "    \n",
    "Since the catagory of our shapes is denoted with intergers 0,1,2, I have transformed them to 0 and 1 in a array in order to fit this model.\n",
    "\n",
    "### Results\n",
    "\n",
    "For both optimizers, stochastic gradient descent and ADAM, convergences are observed. ADAM converges much quicker and its accuracy (converges to 1) is much better than SGD method."
   ]
  },
  {
   "cell_type": "code",
   "execution_count": 7,
   "metadata": {},
   "outputs": [
    {
     "name": "stdout",
     "output_type": "stream",
     "text": [
      "Creating data:\n",
      "0\n",
      "10\n",
      "20\n",
      "30\n",
      "40\n",
      "50\n",
      "60\n",
      "70\n",
      "80\n",
      "90\n",
      "100\n",
      "110\n",
      "120\n",
      "130\n",
      "140\n",
      "150\n",
      "160\n",
      "170\n",
      "180\n",
      "190\n",
      "200\n",
      "210\n",
      "220\n",
      "230\n",
      "240\n",
      "250\n",
      "260\n",
      "270\n",
      "280\n",
      "290\n",
      "Creating data:\n",
      "0\n",
      "10\n",
      "20\n",
      "30\n",
      "40\n",
      "50\n",
      "60\n",
      "70\n",
      "80\n",
      "90\n",
      "100\n",
      "110\n",
      "120\n",
      "130\n",
      "140\n",
      "150\n",
      "160\n",
      "170\n",
      "180\n",
      "190\n",
      "200\n",
      "210\n",
      "220\n",
      "230\n",
      "240\n",
      "250\n",
      "260\n",
      "270\n",
      "280\n",
      "290\n"
     ]
    }
   ],
   "source": [
    "[X_train, Y_train] = generate_dataset_classification(300, 20)\n",
    "from keras.utils import np_utils\n",
    "[X_test,Y_test] = generate_test_set_classification()\n",
    "\n",
    "n_train=np.shape(X_train)[1]\n",
    "n_test=np.shape(X_test)[1]\n"
   ]
  },
  {
   "cell_type": "code",
   "execution_count": 8,
   "metadata": {},
   "outputs": [],
   "source": [
    "def Keras_model(n,optimizer):\n",
    "    '''using Dense and compile to build CNN, input parameter <optimizer> equals to sgd or adam '''\n",
    "    model = Sequential()\n",
    "    model.add(Dense(128, input_dim=n, kernel_initializer='normal',activation='relu'))\n",
    "    model.add(Dense(64, kernel_initializer='normal',activation='relu'))\n",
    "    model.add(Dense(32, kernel_initializer='normal',activation='relu'))\n",
    "    model.add(Dense(3,kernel_initializer='normal',activation='softmax'))\n",
    "    # Compiling the CNN\n",
    "    if optimizer == 'sgd':\n",
    "        model.compile(loss='categorical_crossentropy', optimizer='sgd',metrics=['accuracy'])\n",
    "    else:\n",
    "        model.compile(loss='categorical_crossentropy',optimizer='adam',metrics=['accuracy'])\n",
    "    model.summary()\n",
    "    \n",
    "    return model"
   ]
  },
  {
   "cell_type": "markdown",
   "metadata": {},
   "source": [
    "# SGD\n",
    "The lower the loss, the better a model (unless the model has over-fitted to the training data). The loss is calculated on training and validation and its interperation is how well the model is doing for these two sets. Unlike accuracy, loss is not a percentage. It is a summation of the errors made for each example in training or validation sets."
   ]
  },
  {
   "cell_type": "code",
   "execution_count": 22,
   "metadata": {},
   "outputs": [
    {
     "name": "stdout",
     "output_type": "stream",
     "text": [
      "_________________________________________________________________\n",
      "Layer (type)                 Output Shape              Param #   \n",
      "=================================================================\n",
      "dense_9 (Dense)              (None, 128)               663680    \n",
      "_________________________________________________________________\n",
      "dense_10 (Dense)             (None, 64)                8256      \n",
      "_________________________________________________________________\n",
      "dense_11 (Dense)             (None, 32)                2080      \n",
      "_________________________________________________________________\n",
      "dense_12 (Dense)             (None, 3)                 99        \n",
      "=================================================================\n",
      "Total params: 674,115\n",
      "Trainable params: 674,115\n",
      "Non-trainable params: 0\n",
      "_________________________________________________________________\n",
      "Summary of SGD Method\n",
      "<keras.engine.sequential.Sequential object at 0x00000210E9A68E48>\n"
     ]
    }
   ],
   "source": [
    "Classifier_SGD = Keras_model(n_train,'sgd')\n",
    "\n",
    "print('Summary of SGD Method')\n",
    "print(Classifier_SGD)\n",
    "\n",
    "#Train Model \n",
    "history = keras.callbacks.History()\n",
    "\n",
    "# Convert labels to categorical one-hot encoding\n",
    "ytrain_trinary = to_categorical(Y_train)\n"
   ]
  },
  {
   "cell_type": "code",
   "execution_count": 23,
   "metadata": {},
   "outputs": [
    {
     "name": "stdout",
     "output_type": "stream",
     "text": [
      "Epoch 1/100\n",
      "300/300 [==============================] - 1s 2ms/step - loss: 1.0998 - acc: 0.3033\n",
      "Epoch 2/100\n",
      "300/300 [==============================] - 0s 500us/step - loss: 1.0948 - acc: 0.3733\n",
      "Epoch 3/100\n",
      "300/300 [==============================] - 0s 483us/step - loss: 1.0931 - acc: 0.3733\n",
      "Epoch 4/100\n",
      "300/300 [==============================] - 0s 506us/step - loss: 1.0919 - acc: 0.3700\n",
      "Epoch 5/100\n",
      "300/300 [==============================] - 0s 480us/step - loss: 1.0911 - acc: 0.3700\n",
      "Epoch 6/100\n",
      "300/300 [==============================] - 0s 450us/step - loss: 1.0903 - acc: 0.3700\n",
      "Epoch 7/100\n",
      "300/300 [==============================] - 0s 476us/step - loss: 1.0893 - acc: 0.3700\n",
      "Epoch 8/100\n",
      "300/300 [==============================] - 0s 486us/step - loss: 1.0887 - acc: 0.3700\n",
      "Epoch 9/100\n",
      "300/300 [==============================] - 0s 480us/step - loss: 1.0884 - acc: 0.3700\n",
      "Epoch 10/100\n",
      "300/300 [==============================] - 0s 486us/step - loss: 1.0878 - acc: 0.3700\n",
      "Epoch 11/100\n",
      "300/300 [==============================] - 0s 590us/step - loss: 1.0866 - acc: 0.3700\n",
      "Epoch 12/100\n",
      "300/300 [==============================] - 0s 590us/step - loss: 1.0861 - acc: 0.3700\n",
      "Epoch 13/100\n",
      "300/300 [==============================] - 0s 496us/step - loss: 1.0856 - acc: 0.3700\n",
      "Epoch 14/100\n",
      "300/300 [==============================] - 0s 503us/step - loss: 1.0845 - acc: 0.3767\n",
      "Epoch 15/100\n",
      "300/300 [==============================] - 0s 490us/step - loss: 1.0841 - acc: 0.3800\n",
      "Epoch 16/100\n",
      "300/300 [==============================] - 0s 510us/step - loss: 1.0827 - acc: 0.3800\n",
      "Epoch 17/100\n",
      "300/300 [==============================] - 0s 496us/step - loss: 1.0818 - acc: 0.3800\n",
      "Epoch 18/100\n",
      "300/300 [==============================] - 0s 490us/step - loss: 1.0809 - acc: 0.3833\n",
      "Epoch 19/100\n",
      "300/300 [==============================] - 0s 493us/step - loss: 1.0797 - acc: 0.3867\n",
      "Epoch 20/100\n",
      "300/300 [==============================] - 0s 503us/step - loss: 1.0783 - acc: 0.3900\n",
      "Epoch 21/100\n",
      "300/300 [==============================] - 0s 503us/step - loss: 1.0768 - acc: 0.4167\n",
      "Epoch 22/100\n",
      "300/300 [==============================] - 0s 466us/step - loss: 1.0759 - acc: 0.4100\n",
      "Epoch 23/100\n",
      "300/300 [==============================] - 0s 466us/step - loss: 1.0741 - acc: 0.4333\n",
      "Epoch 24/100\n",
      "300/300 [==============================] - 0s 473us/step - loss: 1.0728 - acc: 0.4067\n",
      "Epoch 25/100\n",
      "300/300 [==============================] - 0s 473us/step - loss: 1.0705 - acc: 0.4367\n",
      "Epoch 26/100\n",
      "300/300 [==============================] - 0s 473us/step - loss: 1.0690 - acc: 0.4533\n",
      "Epoch 27/100\n",
      "300/300 [==============================] - 0s 473us/step - loss: 1.0671 - acc: 0.4600\n",
      "Epoch 28/100\n",
      "300/300 [==============================] - 0s 463us/step - loss: 1.0649 - acc: 0.4433\n",
      "Epoch 29/100\n",
      "300/300 [==============================] - 0s 486us/step - loss: 1.0616 - acc: 0.4700\n",
      "Epoch 30/100\n",
      "300/300 [==============================] - 0s 486us/step - loss: 1.0583 - acc: 0.5133\n",
      "Epoch 31/100\n",
      "300/300 [==============================] - 0s 486us/step - loss: 1.0550 - acc: 0.4667\n",
      "Epoch 32/100\n",
      "300/300 [==============================] - 0s 480us/step - loss: 1.0519 - acc: 0.5067\n",
      "Epoch 33/100\n",
      "300/300 [==============================] - 0s 483us/step - loss: 1.0476 - acc: 0.4867\n",
      "Epoch 34/100\n",
      "300/300 [==============================] - 0s 463us/step - loss: 1.0445 - acc: 0.5400\n",
      "Epoch 35/100\n",
      "300/300 [==============================] - 0s 460us/step - loss: 1.0389 - acc: 0.5433\n",
      "Epoch 36/100\n",
      "300/300 [==============================] - 0s 476us/step - loss: 1.0329 - acc: 0.5633\n",
      "Epoch 37/100\n",
      "300/300 [==============================] - 0s 466us/step - loss: 1.0314 - acc: 0.5200\n",
      "Epoch 38/100\n",
      "300/300 [==============================] - 0s 463us/step - loss: 1.0224 - acc: 0.5267\n",
      "Epoch 39/100\n",
      "300/300 [==============================] - 0s 456us/step - loss: 1.0157 - acc: 0.5267\n",
      "Epoch 40/100\n",
      "300/300 [==============================] - 0s 456us/step - loss: 1.0128 - acc: 0.5600\n",
      "Epoch 41/100\n",
      "300/300 [==============================] - 0s 466us/step - loss: 0.9984 - acc: 0.5567\n",
      "Epoch 42/100\n",
      "300/300 [==============================] - 0s 463us/step - loss: 0.9964 - acc: 0.5533\n",
      "Epoch 43/100\n",
      "300/300 [==============================] - 0s 483us/step - loss: 0.9797 - acc: 0.5567\n",
      "Epoch 44/100\n",
      "300/300 [==============================] - 0s 473us/step - loss: 0.9697 - acc: 0.5633\n",
      "Epoch 45/100\n",
      "300/300 [==============================] - 0s 476us/step - loss: 0.9623 - acc: 0.5867\n",
      "Epoch 46/100\n",
      "300/300 [==============================] - 0s 446us/step - loss: 0.9499 - acc: 0.5733\n",
      "Epoch 47/100\n",
      "300/300 [==============================] - 0s 453us/step - loss: 0.9417 - acc: 0.5733\n",
      "Epoch 48/100\n",
      "300/300 [==============================] - 0s 480us/step - loss: 0.9264 - acc: 0.5867\n",
      "Epoch 49/100\n",
      "300/300 [==============================] - 0s 456us/step - loss: 0.9225 - acc: 0.5833\n",
      "Epoch 50/100\n",
      "300/300 [==============================] - 0s 460us/step - loss: 0.9136 - acc: 0.5767\n",
      "Epoch 51/100\n",
      "300/300 [==============================] - 0s 473us/step - loss: 0.8928 - acc: 0.6000\n",
      "Epoch 52/100\n",
      "300/300 [==============================] - 0s 470us/step - loss: 0.8945 - acc: 0.5967\n",
      "Epoch 53/100\n",
      "300/300 [==============================] - 0s 470us/step - loss: 0.8754 - acc: 0.5867\n",
      "Epoch 54/100\n",
      "300/300 [==============================] - 0s 473us/step - loss: 0.8692 - acc: 0.5800\n",
      "Epoch 55/100\n",
      "300/300 [==============================] - 0s 476us/step - loss: 0.8510 - acc: 0.6067\n",
      "Epoch 56/100\n",
      "300/300 [==============================] - 0s 473us/step - loss: 0.8483 - acc: 0.5967\n",
      "Epoch 57/100\n",
      "300/300 [==============================] - 0s 470us/step - loss: 0.9140 - acc: 0.5700\n",
      "Epoch 58/100\n",
      "300/300 [==============================] - 0s 443us/step - loss: 0.8652 - acc: 0.5967\n",
      "Epoch 59/100\n",
      "300/300 [==============================] - 0s 443us/step - loss: 0.8934 - acc: 0.5533\n",
      "Epoch 60/100\n",
      "300/300 [==============================] - 0s 476us/step - loss: 0.8942 - acc: 0.5733\n",
      "Epoch 61/100\n",
      "300/300 [==============================] - 0s 473us/step - loss: 0.9239 - acc: 0.5633\n",
      "Epoch 62/100\n",
      "300/300 [==============================] - 0s 463us/step - loss: 0.8472 - acc: 0.5967\n",
      "Epoch 63/100\n",
      "300/300 [==============================] - 0s 456us/step - loss: 0.9315 - acc: 0.5400\n",
      "Epoch 64/100\n",
      "300/300 [==============================] - 0s 470us/step - loss: 0.8672 - acc: 0.5533\n",
      "Epoch 65/100\n",
      "300/300 [==============================] - 0s 460us/step - loss: 0.8190 - acc: 0.6100\n",
      "Epoch 66/100\n",
      "300/300 [==============================] - 0s 460us/step - loss: 0.8418 - acc: 0.6100\n",
      "Epoch 67/100\n",
      "300/300 [==============================] - 0s 460us/step - loss: 0.8253 - acc: 0.6067\n",
      "Epoch 68/100\n",
      "300/300 [==============================] - 0s 473us/step - loss: 0.8017 - acc: 0.6200\n",
      "Epoch 69/100\n",
      "300/300 [==============================] - 0s 470us/step - loss: 0.7885 - acc: 0.6300\n",
      "Epoch 70/100\n",
      "300/300 [==============================] - 0s 463us/step - loss: 0.8202 - acc: 0.6033\n",
      "Epoch 71/100\n",
      "300/300 [==============================] - 0s 466us/step - loss: 0.8114 - acc: 0.6233\n",
      "Epoch 72/100\n",
      "300/300 [==============================] - 0s 476us/step - loss: 0.8156 - acc: 0.6133\n",
      "Epoch 73/100\n",
      "300/300 [==============================] - 0s 450us/step - loss: 0.8638 - acc: 0.6067\n",
      "Epoch 74/100\n",
      "300/300 [==============================] - 0s 466us/step - loss: 0.8359 - acc: 0.6000\n",
      "Epoch 75/100\n",
      "300/300 [==============================] - 0s 450us/step - loss: 0.7989 - acc: 0.6233\n",
      "Epoch 76/100\n",
      "300/300 [==============================] - 0s 466us/step - loss: 0.7820 - acc: 0.6300\n",
      "Epoch 77/100\n",
      "300/300 [==============================] - 0s 550us/step - loss: 0.8223 - acc: 0.6100\n",
      "Epoch 78/100\n",
      "300/300 [==============================] - 0s 453us/step - loss: 0.8325 - acc: 0.5800\n",
      "Epoch 79/100\n",
      "300/300 [==============================] - 0s 460us/step - loss: 0.8366 - acc: 0.6000\n",
      "Epoch 80/100\n",
      "300/300 [==============================] - 0s 473us/step - loss: 0.7707 - acc: 0.6367\n",
      "Epoch 81/100\n",
      "300/300 [==============================] - 0s 483us/step - loss: 0.7867 - acc: 0.6267\n",
      "Epoch 82/100\n",
      "300/300 [==============================] - 0s 483us/step - loss: 0.7834 - acc: 0.6367\n",
      "Epoch 83/100\n"
     ]
    },
    {
     "name": "stdout",
     "output_type": "stream",
     "text": [
      "300/300 [==============================] - 0s 493us/step - loss: 0.8607 - acc: 0.5800\n",
      "Epoch 84/100\n",
      "300/300 [==============================] - 0s 493us/step - loss: 0.7768 - acc: 0.6333\n",
      "Epoch 85/100\n",
      "300/300 [==============================] - 0s 526us/step - loss: 0.7825 - acc: 0.6133\n",
      "Epoch 86/100\n",
      "300/300 [==============================] - 0s 503us/step - loss: 0.8549 - acc: 0.5900\n",
      "Epoch 87/100\n",
      "300/300 [==============================] - 0s 500us/step - loss: 0.7490 - acc: 0.6467\n",
      "Epoch 88/100\n",
      "300/300 [==============================] - 0s 510us/step - loss: 0.7614 - acc: 0.6467\n",
      "Epoch 89/100\n",
      "300/300 [==============================] - 0s 500us/step - loss: 0.7597 - acc: 0.6233\n",
      "Epoch 90/100\n",
      "300/300 [==============================] - 0s 503us/step - loss: 0.7723 - acc: 0.6200\n",
      "Epoch 91/100\n",
      "300/300 [==============================] - 0s 490us/step - loss: 0.7584 - acc: 0.6400\n",
      "Epoch 92/100\n",
      "300/300 [==============================] - 0s 470us/step - loss: 0.7417 - acc: 0.6600\n",
      "Epoch 93/100\n",
      "300/300 [==============================] - 0s 506us/step - loss: 0.7755 - acc: 0.6400\n",
      "Epoch 94/100\n",
      "300/300 [==============================] - 0s 490us/step - loss: 0.7427 - acc: 0.6600\n",
      "Epoch 95/100\n",
      "300/300 [==============================] - 0s 526us/step - loss: 0.7472 - acc: 0.6467\n",
      "Epoch 96/100\n",
      "300/300 [==============================] - 0s 476us/step - loss: 0.7623 - acc: 0.6400\n",
      "Epoch 97/100\n",
      "300/300 [==============================] - 0s 493us/step - loss: 0.7476 - acc: 0.6267\n",
      "Epoch 98/100\n",
      "300/300 [==============================] - 0s 496us/step - loss: 0.7186 - acc: 0.6700\n",
      "Epoch 99/100\n",
      "300/300 [==============================] - 0s 510us/step - loss: 0.7540 - acc: 0.6567\n",
      "Epoch 100/100\n",
      "300/300 [==============================] - 0s 503us/step - loss: 0.7346 - acc: 0.6533\n"
     ]
    },
    {
     "data": {
      "text/plain": [
       "<keras.callbacks.History at 0x210e167d358>"
      ]
     },
     "execution_count": 23,
     "metadata": {},
     "output_type": "execute_result"
    }
   ],
   "source": [
    "Classifier_SGD.fit(X_train,ytrain_trinary,epochs=epochs,batch_size =batch,callbacks=[history])"
   ]
  },
  {
   "cell_type": "code",
   "execution_count": 24,
   "metadata": {
    "scrolled": false
   },
   "outputs": [
    {
     "data": {
      "text/plain": [
       "<function matplotlib.pyplot.show(*args, **kw)>"
      ]
     },
     "execution_count": 24,
     "metadata": {},
     "output_type": "execute_result"
    },
    {
     "data": {
      "image/png": "[encoded data removed]",
      "text/plain": [
       "<Figure size 432x288 with 1 Axes>"
      ]
     },
     "metadata": {},
     "output_type": "display_data"
    }
   ],
   "source": [
    "#Plot\n",
    "loss_SGD = history.history.get('loss')\n",
    "accuracy_SGD = history.history.get('acc')\n",
    "plt.plot(loss_SGD)\n",
    "plt.plot(accuracy_SGD)\n",
    "plt.legend(['loss_SGD','accuracy_SGD'])\n",
    "plt.show"
   ]
  },
  {
   "cell_type": "markdown",
   "metadata": {},
   "source": [
    "# ADAM"
   ]
  },
  {
   "cell_type": "code",
   "execution_count": 12,
   "metadata": {
    "scrolled": true
   },
   "outputs": [
    {
     "name": "stdout",
     "output_type": "stream",
     "text": [
      "_________________________________________________________________\n",
      "Layer (type)                 Output Shape              Param #   \n",
      "=================================================================\n",
      "dense_5 (Dense)              (None, 128)               663680    \n",
      "_________________________________________________________________\n",
      "dense_6 (Dense)              (None, 64)                8256      \n",
      "_________________________________________________________________\n",
      "dense_7 (Dense)              (None, 32)                2080      \n",
      "_________________________________________________________________\n",
      "dense_8 (Dense)              (None, 3)                 99        \n",
      "=================================================================\n",
      "Total params: 674,115\n",
      "Trainable params: 674,115\n",
      "Non-trainable params: 0\n",
      "_________________________________________________________________\n",
      "Summary of ADAM Method\n",
      "<keras.engine.sequential.Sequential object at 0x00000210E908DC50>\n"
     ]
    }
   ],
   "source": [
    "Classifier_ADAM = Keras_model(n_train,'adam')\n",
    "print('Summary of ADAM Method')\n",
    "print(Classifier_ADAM)"
   ]
  },
  {
   "cell_type": "code",
   "execution_count": 13,
   "metadata": {},
   "outputs": [
    {
     "name": "stdout",
     "output_type": "stream",
     "text": [
      "Epoch 1/100\n",
      "300/300 [==============================] - 1s 3ms/step - loss: 1.0951 - acc: 0.4100\n",
      "Epoch 2/100\n",
      "300/300 [==============================] - 0s 780us/step - loss: 1.0212 - acc: 0.6000\n",
      "Epoch 3/100\n",
      "300/300 [==============================] - 0s 830us/step - loss: 0.8579 - acc: 0.6233\n",
      "Epoch 4/100\n",
      "300/300 [==============================] - 0s 783us/step - loss: 0.6573 - acc: 0.6667\n",
      "Epoch 5/100\n",
      "300/300 [==============================] - 0s 816us/step - loss: 0.5054 - acc: 0.7300\n",
      "Epoch 6/100\n",
      "300/300 [==============================] - 0s 790us/step - loss: 0.4686 - acc: 0.7033\n",
      "Epoch 7/100\n",
      "300/300 [==============================] - 0s 793us/step - loss: 0.4437 - acc: 0.7633\n",
      "Epoch 8/100\n",
      "300/300 [==============================] - 0s 790us/step - loss: 0.4286 - acc: 0.7833\n",
      "Epoch 9/100\n",
      "300/300 [==============================] - 0s 820us/step - loss: 0.3993 - acc: 0.8133\n",
      "Epoch 10/100\n",
      "300/300 [==============================] - 0s 830us/step - loss: 0.4019 - acc: 0.8000\n",
      "Epoch 11/100\n",
      "300/300 [==============================] - 0s 813us/step - loss: 0.3680 - acc: 0.8267\n",
      "Epoch 12/100\n",
      "300/300 [==============================] - 0s 896us/step - loss: 0.3150 - acc: 0.8567\n",
      "Epoch 13/100\n",
      "300/300 [==============================] - 0s 869us/step - loss: 0.2789 - acc: 0.8867\n",
      "Epoch 14/100\n",
      "300/300 [==============================] - 0s 836us/step - loss: 0.2078 - acc: 0.9833\n",
      "Epoch 15/100\n",
      "300/300 [==============================] - 0s 833us/step - loss: 0.1677 - acc: 0.9633\n",
      "Epoch 16/100\n",
      "300/300 [==============================] - 0s 816us/step - loss: 0.1260 - acc: 0.9833\n",
      "Epoch 17/100\n",
      "300/300 [==============================] - 0s 843us/step - loss: 0.0891 - acc: 0.9867\n",
      "Epoch 18/100\n",
      "300/300 [==============================] - 0s 843us/step - loss: 0.0847 - acc: 0.9600\n",
      "Epoch 19/100\n",
      "300/300 [==============================] - 0s 826us/step - loss: 0.0668 - acc: 0.9833\n",
      "Epoch 20/100\n",
      "300/300 [==============================] - 0s 820us/step - loss: 0.0318 - acc: 1.0000\n",
      "Epoch 21/100\n",
      "300/300 [==============================] - 0s 856us/step - loss: 0.0272 - acc: 1.0000\n",
      "Epoch 22/100\n",
      "300/300 [==============================] - 0s 850us/step - loss: 0.0382 - acc: 0.9967\n",
      "Epoch 23/100\n",
      "300/300 [==============================] - 0s 783us/step - loss: 0.0636 - acc: 0.9767\n",
      "Epoch 24/100\n",
      "300/300 [==============================] - 0s 863us/step - loss: 0.0685 - acc: 0.9733\n",
      "Epoch 25/100\n",
      "300/300 [==============================] - 0s 803us/step - loss: 0.1139 - acc: 0.9300\n",
      "Epoch 26/100\n",
      "300/300 [==============================] - 0s 803us/step - loss: 0.0793 - acc: 0.9733\n",
      "Epoch 27/100\n",
      "300/300 [==============================] - 0s 866us/step - loss: 0.0740 - acc: 0.9700\n",
      "Epoch 28/100\n",
      "300/300 [==============================] - 0s 830us/step - loss: 0.0396 - acc: 0.9900\n",
      "Epoch 29/100\n",
      "300/300 [==============================] - 0s 786us/step - loss: 0.0185 - acc: 0.9967\n",
      "Epoch 30/100\n",
      "300/300 [==============================] - 0s 816us/step - loss: 0.0126 - acc: 1.0000\n",
      "Epoch 31/100\n",
      "300/300 [==============================] - 0s 833us/step - loss: 0.0046 - acc: 1.0000\n",
      "Epoch 32/100\n",
      "300/300 [==============================] - 0s 793us/step - loss: 0.0033 - acc: 1.0000\n",
      "Epoch 33/100\n",
      "300/300 [==============================] - 0s 816us/step - loss: 0.0026 - acc: 1.0000\n",
      "Epoch 34/100\n",
      "300/300 [==============================] - 0s 833us/step - loss: 0.0021 - acc: 1.0000\n",
      "Epoch 35/100\n",
      "300/300 [==============================] - 0s 866us/step - loss: 0.0017 - acc: 1.0000\n",
      "Epoch 36/100\n",
      "300/300 [==============================] - 0s 993us/step - loss: 0.0014 - acc: 1.0000\n",
      "Epoch 37/100\n",
      "300/300 [==============================] - 0s 846us/step - loss: 0.0011 - acc: 1.0000\n",
      "Epoch 38/100\n",
      "300/300 [==============================] - 0s 1ms/step - loss: 8.8727e-04 - acc: 1.0000\n",
      "Epoch 39/100\n",
      "300/300 [==============================] - 0s 919us/step - loss: 7.3494e-04 - acc: 1.0000\n",
      "Epoch 40/100\n",
      "300/300 [==============================] - 0s 823us/step - loss: 5.9358e-04 - acc: 1.0000\n",
      "Epoch 41/100\n",
      "300/300 [==============================] - 0s 850us/step - loss: 5.0879e-04 - acc: 1.0000\n",
      "Epoch 42/100\n",
      "300/300 [==============================] - 0s 846us/step - loss: 4.0306e-04 - acc: 1.0000\n",
      "Epoch 43/100\n",
      "300/300 [==============================] - 0s 909us/step - loss: 3.4581e-04 - acc: 1.0000\n",
      "Epoch 44/100\n",
      "300/300 [==============================] - 0s 963us/step - loss: 2.9215e-04 - acc: 1.0000 0s - loss: 3.1667e-04 - acc: 1.00\n",
      "Epoch 45/100\n",
      "300/300 [==============================] - 0s 969us/step - loss: 2.5091e-04 - acc: 1.0000\n",
      "Epoch 46/100\n",
      "300/300 [==============================] - 0s 1ms/step - loss: 2.2368e-04 - acc: 1.0000\n",
      "Epoch 47/100\n",
      "300/300 [==============================] - 0s 953us/step - loss: 1.9249e-04 - acc: 1.0000\n",
      "Epoch 48/100\n",
      "300/300 [==============================] - 0s 939us/step - loss: 1.7104e-04 - acc: 1.0000\n",
      "Epoch 49/100\n",
      "300/300 [==============================] - 0s 936us/step - loss: 1.5320e-04 - acc: 1.0000\n",
      "Epoch 50/100\n",
      "300/300 [==============================] - 0s 969us/step - loss: 1.4003e-04 - acc: 1.0000\n",
      "Epoch 51/100\n",
      "300/300 [==============================] - 0s 870us/step - loss: 1.2812e-04 - acc: 1.0000\n",
      "Epoch 52/100\n",
      "300/300 [==============================] - 0s 966us/step - loss: 1.1787e-04 - acc: 1.0000\n",
      "Epoch 53/100\n",
      "300/300 [==============================] - 0s 939us/step - loss: 1.0892e-04 - acc: 1.0000\n",
      "Epoch 54/100\n",
      "300/300 [==============================] - 0s 906us/step - loss: 1.0058e-04 - acc: 1.0000\n",
      "Epoch 55/100\n",
      "300/300 [==============================] - 0s 1ms/step - loss: 9.3638e-05 - acc: 1.0000\n",
      "Epoch 56/100\n",
      "300/300 [==============================] - 0s 999us/step - loss: 8.7628e-05 - acc: 1.0000\n",
      "Epoch 57/100\n",
      "300/300 [==============================] - 0s 886us/step - loss: 8.2095e-05 - acc: 1.0000\n",
      "Epoch 58/100\n",
      "300/300 [==============================] - 0s 846us/step - loss: 7.8897e-05 - acc: 1.0000\n",
      "Epoch 59/100\n",
      "300/300 [==============================] - 0s 800us/step - loss: 7.2416e-05 - acc: 1.0000\n",
      "Epoch 60/100\n",
      "300/300 [==============================] - 0s 836us/step - loss: 6.9324e-05 - acc: 1.0000\n",
      "Epoch 61/100\n",
      "300/300 [==============================] - 0s 806us/step - loss: 6.5193e-05 - acc: 1.0000\n",
      "Epoch 62/100\n",
      "300/300 [==============================] - 0s 830us/step - loss: 6.1623e-05 - acc: 1.0000\n",
      "Epoch 63/100\n",
      "300/300 [==============================] - 0s 1ms/step - loss: 5.9124e-05 - acc: 1.0000\n",
      "Epoch 64/100\n",
      "300/300 [==============================] - 0s 1ms/step - loss: 5.6177e-05 - acc: 1.0000\n",
      "Epoch 65/100\n",
      "300/300 [==============================] - 0s 949us/step - loss: 5.3585e-05 - acc: 1.0000\n",
      "Epoch 66/100\n",
      "300/300 [==============================] - 0s 833us/step - loss: 5.1102e-05 - acc: 1.0000\n",
      "Epoch 67/100\n",
      "300/300 [==============================] - 0s 826us/step - loss: 4.9070e-05 - acc: 1.0000\n",
      "Epoch 68/100\n",
      "300/300 [==============================] - 0s 826us/step - loss: 4.7172e-05 - acc: 1.0000\n",
      "Epoch 69/100\n",
      "300/300 [==============================] - 0s 833us/step - loss: 4.5060e-05 - acc: 1.0000\n",
      "Epoch 70/100\n",
      "300/300 [==============================] - 0s 850us/step - loss: 4.3358e-05 - acc: 1.0000\n",
      "Epoch 71/100\n",
      "300/300 [==============================] - 0s 810us/step - loss: 4.1735e-05 - acc: 1.0000\n",
      "Epoch 72/100\n",
      "300/300 [==============================] - 0s 826us/step - loss: 4.0284e-05 - acc: 1.0000\n",
      "Epoch 73/100\n",
      "300/300 [==============================] - 0s 810us/step - loss: 3.8913e-05 - acc: 1.0000\n",
      "Epoch 74/100\n",
      "300/300 [==============================] - 0s 843us/step - loss: 3.7112e-05 - acc: 1.0000\n",
      "Epoch 75/100\n",
      "300/300 [==============================] - 0s 800us/step - loss: 3.6154e-05 - acc: 1.0000\n",
      "Epoch 76/100\n",
      "300/300 [==============================] - 0s 860us/step - loss: 3.4681e-05 - acc: 1.0000\n",
      "Epoch 77/100\n",
      "300/300 [==============================] - 0s 833us/step - loss: 3.3468e-05 - acc: 1.0000\n",
      "Epoch 78/100\n",
      "300/300 [==============================] - 0s 813us/step - loss: 3.2425e-05 - acc: 1.0000\n",
      "Epoch 79/100\n",
      "300/300 [==============================] - 0s 800us/step - loss: 3.1439e-05 - acc: 1.0000\n",
      "Epoch 80/100\n",
      "300/300 [==============================] - 0s 826us/step - loss: 3.0520e-05 - acc: 1.0000\n",
      "Epoch 81/100\n"
     ]
    },
    {
     "name": "stdout",
     "output_type": "stream",
     "text": [
      "300/300 [==============================] - 0s 853us/step - loss: 2.9599e-05 - acc: 1.0000\n",
      "Epoch 82/100\n",
      "300/300 [==============================] - 0s 850us/step - loss: 2.8720e-05 - acc: 1.0000\n",
      "Epoch 83/100\n",
      "300/300 [==============================] - 0s 863us/step - loss: 2.7919e-05 - acc: 1.0000\n",
      "Epoch 84/100\n",
      "300/300 [==============================] - 0s 873us/step - loss: 2.7066e-05 - acc: 1.0000\n",
      "Epoch 85/100\n",
      "300/300 [==============================] - 0s 880us/step - loss: 2.6345e-05 - acc: 1.0000\n",
      "Epoch 86/100\n",
      "300/300 [==============================] - 0s 926us/step - loss: 2.5687e-05 - acc: 1.0000\n",
      "Epoch 87/100\n",
      "300/300 [==============================] - 0s 870us/step - loss: 2.4964e-05 - acc: 1.0000\n",
      "Epoch 88/100\n",
      "300/300 [==============================] - 0s 784us/step - loss: 2.4302e-05 - acc: 1.0000\n",
      "Epoch 89/100\n",
      "300/300 [==============================] - 0s 760us/step - loss: 2.3684e-05 - acc: 1.0000\n",
      "Epoch 90/100\n",
      "300/300 [==============================] - 0s 826us/step - loss: 2.3036e-05 - acc: 1.0000\n",
      "Epoch 91/100\n",
      "300/300 [==============================] - 0s 756us/step - loss: 2.2429e-05 - acc: 1.0000\n",
      "Epoch 92/100\n",
      "300/300 [==============================] - 0s 791us/step - loss: 2.1897e-05 - acc: 1.0000\n",
      "Epoch 93/100\n",
      "300/300 [==============================] - 0s 833us/step - loss: 2.1345e-05 - acc: 1.0000\n",
      "Epoch 94/100\n",
      "300/300 [==============================] - 0s 816us/step - loss: 2.0885e-05 - acc: 1.0000\n",
      "Epoch 95/100\n",
      "300/300 [==============================] - 0s 823us/step - loss: 2.0415e-05 - acc: 1.0000\n",
      "Epoch 96/100\n",
      "300/300 [==============================] - 0s 863us/step - loss: 1.9955e-05 - acc: 1.0000\n",
      "Epoch 97/100\n",
      "300/300 [==============================] - 0s 843us/step - loss: 1.9461e-05 - acc: 1.0000\n",
      "Epoch 98/100\n",
      "300/300 [==============================] - 0s 876us/step - loss: 1.8926e-05 - acc: 1.0000\n",
      "Epoch 99/100\n",
      "300/300 [==============================] - 0s 883us/step - loss: 1.8565e-05 - acc: 1.0000\n",
      "Epoch 100/100\n",
      "300/300 [==============================] - 0s 916us/step - loss: 1.8103e-05 - acc: 1.0000\n"
     ]
    },
    {
     "data": {
      "text/plain": [
       "<keras.callbacks.History at 0x210e9052080>"
      ]
     },
     "execution_count": 13,
     "metadata": {},
     "output_type": "execute_result"
    }
   ],
   "source": [
    "Classifier_ADAM.fit(X_train,ytrain_trinary,epochs=epochs,batch_size =batch,callbacks=[history])"
   ]
  },
  {
   "cell_type": "code",
   "execution_count": 14,
   "metadata": {
    "scrolled": true
   },
   "outputs": [
    {
     "data": {
      "text/plain": [
       "<function matplotlib.pyplot.show(*args, **kw)>"
      ]
     },
     "execution_count": 14,
     "metadata": {},
     "output_type": "execute_result"
    },
    {
     "data": {
      "image/png": "[encoded data removed]",
      "text/plain": [
       "<Figure size 432x288 with 1 Axes>"
      ]
     },
     "metadata": {},
     "output_type": "display_data"
    }
   ],
   "source": [
    "#Plot\n",
    "loss_ADAM = history.history.get('loss')\n",
    "accuracy_ADAM = history.history.get('acc')\n",
    "plt.plot(loss_ADAM)\n",
    "plt.plot(accuracy_ADAM)\n",
    "plt.legend(['loss_ADAM','accuracy_ADAM'])\n",
    "plt.show"
   ]
  },
  {
   "cell_type": "markdown",
   "metadata": {},
   "source": [
    "# 4 Get Weights of each Layer\n",
    "\n",
    "\n",
    "A Dense layer performs the following operation: h = Wx + b. The first output is the weight matrix W and the second output is the bias vector b. "
   ]
  },
  {
   "cell_type": "code",
   "execution_count": 15,
   "metadata": {},
   "outputs": [
    {
     "data": {
      "text/plain": [
       "(5184, 128)"
      ]
     },
     "execution_count": 15,
     "metadata": {},
     "output_type": "execute_result"
    }
   ],
   "source": [
    "weight_SGD =Classifier_SGD.get_weights()[0]\n",
    "weight_SGD.shape"
   ]
  },
  {
   "cell_type": "code",
   "execution_count": 16,
   "metadata": {},
   "outputs": [
    {
     "data": {
      "text/plain": [
       "(5184, 128)"
      ]
     },
     "execution_count": 16,
     "metadata": {},
     "output_type": "execute_result"
    }
   ],
   "source": [
    "weight_ADAM=Classifier_ADAM.get_weights()[0]\n",
    "weight_ADAM.shape      "
   ]
  },
  {
   "cell_type": "markdown",
   "metadata": {},
   "source": [
    "# 5 A More Difficult Classification Problem\n",
    "\n",
    "This part aims at classifying shapes that locate randomly and change dimensions. metrics=['accuracy'] allows us to get the accuracy rate of the model in additional to the loss function. \n",
    "\n",
    "A 2D convolutional network is used on this new dataset. It is the input layer and has 16 feature maps, with the size of 5 * 5 and a rectifier activation function. Dataset needs to be reshaped to [samples][channels][width][height] in order to fit this model. Weigh and height equal to the root mean square of the shape of X. In the case of our data where the channels values are gray scale, the pixel dimension is set to 1.\n",
    "\n",
    "After the step of Pooling, I employed a regularization layer using dropout. It is configured torandomly exclude 20% of neurons in the layer in order to reduce overfitting. Flatten allows the output to be processed by standard fully connected layers. The last step is to build fully connected layers, whose structure is similiar to previous classification problem.\n",
    "\n",
    "### Results\n",
    "The accuray of the model is 78%. Convergence is reach around 60 epochs. Numerical results are satisfying, but the model is very time consuming. It remains to be improved.\n"
   ]
  },
  {
   "cell_type": "code",
   "execution_count": 17,
   "metadata": {},
   "outputs": [
    {
     "name": "stdout",
     "output_type": "stream",
     "text": [
      "Creating data:\n",
      "0\n",
      "10\n",
      "20\n",
      "30\n",
      "40\n",
      "50\n",
      "60\n",
      "70\n",
      "80\n",
      "90\n",
      "100\n",
      "110\n",
      "120\n",
      "130\n",
      "140\n",
      "150\n",
      "160\n",
      "170\n",
      "180\n",
      "190\n",
      "200\n",
      "210\n",
      "220\n",
      "230\n",
      "240\n",
      "250\n",
      "260\n",
      "270\n",
      "280\n",
      "290\n",
      "Creating data:\n",
      "0\n",
      "10\n",
      "20\n",
      "30\n",
      "40\n",
      "50\n",
      "60\n",
      "70\n",
      "80\n",
      "90\n",
      "100\n",
      "110\n",
      "120\n",
      "130\n",
      "140\n",
      "150\n",
      "160\n",
      "170\n",
      "180\n",
      "190\n",
      "200\n",
      "210\n",
      "220\n",
      "230\n",
      "240\n",
      "250\n",
      "260\n",
      "270\n",
      "280\n",
      "290\n"
     ]
    }
   ],
   "source": [
    "# Generate data with random position\n",
    "[X_train, Y_train] = generate_dataset_classification(300, 20, True)\n",
    "[X_test, Y_test] = generate_test_set_classification() \n"
   ]
  },
  {
   "cell_type": "code",
   "execution_count": 25,
   "metadata": {},
   "outputs": [],
   "source": [
    "# reshape to be [samples][channels][width][height]\n",
    "X_train_4D = X_train.reshape(X_train.shape[0],IMAGE_SIZE, IMAGE_SIZE ,1).astype('float32')\n",
    "X_test_4D = X_test.reshape(X_test.shape[0],IMAGE_SIZE, IMAGE_SIZE ,1).astype('float32')\n",
    "\n",
    "# one hot encode outputs\n",
    "Y_train_trinary = to_categorical(Y_train)\n",
    "Y_test_trinary = to_categorical(Y_test)"
   ]
  },
  {
   "cell_type": "code",
   "execution_count": 26,
   "metadata": {},
   "outputs": [],
   "source": [
    "def baseline_model(n):\n",
    "    '''Using Convolution2D,MaxPooling2D,Dropout and Dense to build CCN, the parameter <optimizer> is choosen and equal to adam '''\n",
    "    # Initialising the CNN\n",
    "    classifier = Sequential()\n",
    "\n",
    "    # Step - 1 Convolution\n",
    "    #The layer has 16 feature maps, with the size of 5 * 5 and a rectifier activation function. This is the input layer.\n",
    "    classifier.add(Convolution2D(16, 5, 5, input_shape=(72, 72, 1), activation='relu'))\n",
    "\n",
    "    # Step - 2 Pooling\n",
    "    classifier.add(MaxPooling2D(pool_size=(2, 2)))\n",
    "\n",
    "    classifier.add(Convolution2D(32, 3, 3, activation='relu'))\n",
    "    classifier.add(MaxPooling2D(pool_size=(2, 2)))\n",
    "    \n",
    "    #Dropout: regularization layer using dropout. It is configured torandomly exclude 20% of neurons in the layer in order to reduce overfitting.\n",
    "    classifier.add(Dropout(0.2))\n",
    "\n",
    "    # Step - 3 Flattening\n",
    "    #Flatten. It allows the output to be processed by standard fully connected layers.\n",
    "    classifier.add(Flatten())\n",
    "\n",
    "    # Step - 4 Full connection -> First layer input layer then hidden layer\n",
    "    # and last softmax layer\n",
    "    #a fully connected layer with 128 neurons and rectifier activation function is used.\n",
    "    classifier.add(Dense(128, input_dim=n, kernel_initializer='normal',activation='relu'))\n",
    "    classifier.add(Dense(64, kernel_initializer='normal',activation='relu'))\n",
    "    classifier.add(Dense(32, kernel_initializer='normal',activation='relu'))\n",
    "    classifier.add(Dense(3,kernel_initializer='normal',activation='softmax'))\n",
    "\n",
    "\n",
    "    # Compiling the CNN\n",
    "    classifier.compile(optimizer='adam', loss='categorical_crossentropy', metrics=['accuracy'])\n",
    "    \n",
    "    return classifier"
   ]
  },
  {
   "cell_type": "code",
   "execution_count": 27,
   "metadata": {},
   "outputs": [
    {
     "name": "stdout",
     "output_type": "stream",
     "text": [
      "Train on 300 samples, validate on 300 samples\n",
      "Epoch 1/100\n",
      " - 11s - loss: 1.0992 - acc: 0.3433 - val_loss: 1.1015 - val_acc: 0.3300\n",
      "Epoch 2/100\n",
      " - 10s - loss: 1.0884 - acc: 0.3700 - val_loss: 1.0946 - val_acc: 0.3333\n",
      "Epoch 3/100\n",
      " - 8s - loss: 1.0763 - acc: 0.4200 - val_loss: 1.0724 - val_acc: 0.5600\n",
      "Epoch 4/100\n",
      " - 9s - loss: 1.0166 - acc: 0.5633 - val_loss: 0.9929 - val_acc: 0.5200\n",
      "Epoch 5/100\n",
      " - 9s - loss: 0.8873 - acc: 0.6000 - val_loss: 0.8254 - val_acc: 0.5933\n",
      "Epoch 6/100\n",
      " - 9s - loss: 0.7651 - acc: 0.6267 - val_loss: 0.7746 - val_acc: 0.6367\n",
      "Epoch 7/100\n",
      " - 9s - loss: 0.7637 - acc: 0.6467 - val_loss: 0.8056 - val_acc: 0.5833\n",
      "Epoch 8/100\n",
      " - 9s - loss: 0.6661 - acc: 0.6633 - val_loss: 0.7474 - val_acc: 0.6433\n",
      "Epoch 9/100\n",
      " - 9s - loss: 0.5827 - acc: 0.7400 - val_loss: 0.8776 - val_acc: 0.6533\n",
      "Epoch 10/100\n",
      " - 9s - loss: 0.6262 - acc: 0.7233 - val_loss: 0.7046 - val_acc: 0.7267\n",
      "Epoch 11/100\n",
      " - 9s - loss: 0.5656 - acc: 0.7800 - val_loss: 0.7148 - val_acc: 0.6933\n",
      "Epoch 12/100\n",
      " - 9s - loss: 0.4928 - acc: 0.7967 - val_loss: 0.7205 - val_acc: 0.7400\n",
      "Epoch 13/100\n",
      " - 9s - loss: 0.4851 - acc: 0.8200 - val_loss: 0.7569 - val_acc: 0.7133\n",
      "Epoch 14/100\n",
      " - 9s - loss: 0.4355 - acc: 0.8533 - val_loss: 0.6656 - val_acc: 0.7533\n",
      "Epoch 15/100\n",
      " - 10s - loss: 0.3482 - acc: 0.8900 - val_loss: 0.7233 - val_acc: 0.7600\n",
      "Epoch 16/100\n",
      " - 9s - loss: 0.3193 - acc: 0.8767 - val_loss: 0.7464 - val_acc: 0.7500\n",
      "Epoch 17/100\n",
      " - 9s - loss: 0.2787 - acc: 0.8967 - val_loss: 0.7060 - val_acc: 0.7767\n",
      "Epoch 18/100\n",
      " - 8s - loss: 0.2553 - acc: 0.9033 - val_loss: 0.7014 - val_acc: 0.7567\n",
      "Epoch 19/100\n",
      " - 9s - loss: 0.2124 - acc: 0.9300 - val_loss: 0.7747 - val_acc: 0.7400\n",
      "Epoch 20/100\n",
      " - 9s - loss: 0.1781 - acc: 0.9500 - val_loss: 0.7804 - val_acc: 0.7633\n",
      "Epoch 21/100\n",
      " - 8s - loss: 0.1413 - acc: 0.9433 - val_loss: 0.8400 - val_acc: 0.7567\n",
      "Epoch 22/100\n",
      " - 9s - loss: 0.1227 - acc: 0.9567 - val_loss: 0.7586 - val_acc: 0.7800\n",
      "Epoch 23/100\n",
      " - 9s - loss: 0.0972 - acc: 0.9667 - val_loss: 0.7709 - val_acc: 0.7733\n",
      "Epoch 24/100\n",
      " - 9s - loss: 0.1006 - acc: 0.9700 - val_loss: 0.8538 - val_acc: 0.7700\n",
      "Epoch 25/100\n",
      " - 9s - loss: 0.0521 - acc: 0.9867 - val_loss: 0.8774 - val_acc: 0.7833\n",
      "Epoch 26/100\n",
      " - 9s - loss: 0.0481 - acc: 0.9933 - val_loss: 0.8988 - val_acc: 0.7700\n",
      "Epoch 27/100\n",
      " - 9s - loss: 0.0490 - acc: 0.9900 - val_loss: 0.9678 - val_acc: 0.7667\n",
      "Epoch 28/100\n",
      " - 9s - loss: 0.0352 - acc: 0.9900 - val_loss: 1.1268 - val_acc: 0.7733\n",
      "Epoch 29/100\n",
      " - 10s - loss: 0.0234 - acc: 0.9967 - val_loss: 0.9897 - val_acc: 0.7833\n",
      "Epoch 30/100\n",
      " - 9s - loss: 0.0300 - acc: 0.9967 - val_loss: 1.0745 - val_acc: 0.7733\n",
      "Epoch 31/100\n",
      " - 8s - loss: 0.0265 - acc: 0.9900 - val_loss: 1.1544 - val_acc: 0.7833\n",
      "Epoch 32/100\n",
      " - 9s - loss: 0.0412 - acc: 0.9867 - val_loss: 1.0599 - val_acc: 0.7767\n",
      "Epoch 33/100\n",
      " - 9s - loss: 0.0880 - acc: 0.9633 - val_loss: 1.0882 - val_acc: 0.7533\n",
      "Epoch 34/100\n",
      " - 9s - loss: 0.0483 - acc: 0.9933 - val_loss: 0.9595 - val_acc: 0.7767\n",
      "Epoch 35/100\n",
      " - 9s - loss: 0.0257 - acc: 0.9933 - val_loss: 1.2992 - val_acc: 0.7633\n",
      "Epoch 36/100\n",
      " - 9s - loss: 0.0103 - acc: 1.0000 - val_loss: 1.2388 - val_acc: 0.7833\n",
      "Epoch 37/100\n",
      " - 9s - loss: 0.0090 - acc: 1.0000 - val_loss: 1.2792 - val_acc: 0.7533\n",
      "Epoch 38/100\n",
      " - 9s - loss: 0.0064 - acc: 1.0000 - val_loss: 1.2514 - val_acc: 0.7800\n",
      "Epoch 39/100\n",
      " - 9s - loss: 0.0058 - acc: 1.0000 - val_loss: 1.2761 - val_acc: 0.7700\n",
      "Epoch 40/100\n",
      " - 9s - loss: 0.0039 - acc: 1.0000 - val_loss: 1.3908 - val_acc: 0.7833\n",
      "Epoch 41/100\n",
      " - 9s - loss: 0.0087 - acc: 0.9967 - val_loss: 1.2774 - val_acc: 0.7833\n",
      "Epoch 42/100\n",
      " - 10s - loss: 0.0022 - acc: 1.0000 - val_loss: 1.4262 - val_acc: 0.7600\n",
      "Epoch 43/100\n",
      " - 9s - loss: 0.0044 - acc: 1.0000 - val_loss: 1.2897 - val_acc: 0.7867\n",
      "Epoch 44/100\n",
      " - 9s - loss: 0.0056 - acc: 1.0000 - val_loss: 1.4129 - val_acc: 0.7700\n",
      "Epoch 45/100\n",
      " - 10s - loss: 0.0039 - acc: 1.0000 - val_loss: 1.3234 - val_acc: 0.7933\n",
      "Epoch 46/100\n",
      " - 9s - loss: 0.0027 - acc: 1.0000 - val_loss: 1.3317 - val_acc: 0.7967\n",
      "Epoch 47/100\n",
      " - 10s - loss: 0.0025 - acc: 1.0000 - val_loss: 1.3631 - val_acc: 0.7833\n",
      "Epoch 48/100\n",
      " - 9s - loss: 0.0014 - acc: 1.0000 - val_loss: 1.3885 - val_acc: 0.7833\n",
      "Epoch 49/100\n",
      " - 9s - loss: 0.0010 - acc: 1.0000 - val_loss: 1.3727 - val_acc: 0.7833\n",
      "Epoch 50/100\n",
      " - 9s - loss: 0.0014 - acc: 1.0000 - val_loss: 1.3793 - val_acc: 0.7900\n",
      "Epoch 51/100\n",
      " - 9s - loss: 0.0012 - acc: 1.0000 - val_loss: 1.3731 - val_acc: 0.7833\n",
      "Epoch 52/100\n",
      " - 9s - loss: 0.0011 - acc: 1.0000 - val_loss: 1.3830 - val_acc: 0.7800\n",
      "Epoch 53/100\n",
      " - 8s - loss: 0.0011 - acc: 1.0000 - val_loss: 1.4073 - val_acc: 0.7800\n",
      "Epoch 54/100\n",
      " - 9s - loss: 0.0012 - acc: 1.0000 - val_loss: 1.4255 - val_acc: 0.7833\n",
      "Epoch 55/100\n",
      " - 9s - loss: 7.4950e-04 - acc: 1.0000 - val_loss: 1.4172 - val_acc: 0.7833\n",
      "Epoch 56/100\n",
      " - 10s - loss: 9.1614e-04 - acc: 1.0000 - val_loss: 1.4480 - val_acc: 0.7867\n",
      "Epoch 57/100\n",
      " - 8s - loss: 5.8150e-04 - acc: 1.0000 - val_loss: 1.4853 - val_acc: 0.7833\n",
      "Epoch 58/100\n",
      " - 9s - loss: 6.1136e-04 - acc: 1.0000 - val_loss: 1.4654 - val_acc: 0.7867\n",
      "Epoch 59/100\n",
      " - 8s - loss: 5.5702e-04 - acc: 1.0000 - val_loss: 1.4659 - val_acc: 0.7867\n",
      "Epoch 60/100\n",
      " - 9s - loss: 4.3413e-04 - acc: 1.0000 - val_loss: 1.4614 - val_acc: 0.7900\n",
      "Epoch 61/100\n",
      " - 9s - loss: 0.0010 - acc: 1.0000 - val_loss: 1.4338 - val_acc: 0.7933\n",
      "Epoch 62/100\n",
      " - 9s - loss: 9.0761e-04 - acc: 1.0000 - val_loss: 1.4741 - val_acc: 0.7833\n",
      "Epoch 63/100\n",
      " - 9s - loss: 5.9074e-04 - acc: 1.0000 - val_loss: 1.5053 - val_acc: 0.7867\n",
      "Epoch 64/100\n",
      " - 9s - loss: 0.0018 - acc: 1.0000 - val_loss: 1.5304 - val_acc: 0.7567\n",
      "Epoch 65/100\n",
      " - 9s - loss: 7.1483e-04 - acc: 1.0000 - val_loss: 1.4964 - val_acc: 0.7800\n",
      "Epoch 66/100\n",
      " - 9s - loss: 9.2420e-04 - acc: 1.0000 - val_loss: 1.4634 - val_acc: 0.7933\n",
      "Epoch 67/100\n",
      " - 9s - loss: 4.3257e-04 - acc: 1.0000 - val_loss: 1.4476 - val_acc: 0.7833\n",
      "Epoch 68/100\n",
      " - 10s - loss: 3.7886e-04 - acc: 1.0000 - val_loss: 1.4609 - val_acc: 0.7867\n",
      "Epoch 69/100\n",
      " - 10s - loss: 4.5511e-04 - acc: 1.0000 - val_loss: 1.4727 - val_acc: 0.7867\n",
      "Epoch 70/100\n",
      " - 9s - loss: 3.7019e-04 - acc: 1.0000 - val_loss: 1.4821 - val_acc: 0.7933\n",
      "Epoch 71/100\n",
      " - 9s - loss: 4.3405e-04 - acc: 1.0000 - val_loss: 1.4871 - val_acc: 0.7900\n",
      "Epoch 72/100\n",
      " - 9s - loss: 2.5136e-04 - acc: 1.0000 - val_loss: 1.4981 - val_acc: 0.7900\n",
      "Epoch 73/100\n",
      " - 9s - loss: 3.2090e-04 - acc: 1.0000 - val_loss: 1.5132 - val_acc: 0.7933\n",
      "Epoch 74/100\n",
      " - 9s - loss: 3.6073e-04 - acc: 1.0000 - val_loss: 1.5167 - val_acc: 0.7900\n",
      "Epoch 75/100\n",
      " - 10s - loss: 6.1322e-04 - acc: 1.0000 - val_loss: 1.5160 - val_acc: 0.7867\n",
      "Epoch 76/100\n",
      " - 9s - loss: 4.7037e-04 - acc: 1.0000 - val_loss: 1.5172 - val_acc: 0.7867\n",
      "Epoch 77/100\n",
      " - 9s - loss: 2.1977e-04 - acc: 1.0000 - val_loss: 1.5283 - val_acc: 0.7833\n",
      "Epoch 78/100\n",
      " - 8s - loss: 1.9143e-04 - acc: 1.0000 - val_loss: 1.5276 - val_acc: 0.7833\n",
      "Epoch 79/100\n",
      " - 10s - loss: 2.8815e-04 - acc: 1.0000 - val_loss: 1.5298 - val_acc: 0.7867\n",
      "Epoch 80/100\n",
      " - 9s - loss: 3.1388e-04 - acc: 1.0000 - val_loss: 1.5213 - val_acc: 0.7867\n",
      "Epoch 81/100\n",
      " - 9s - loss: 4.9841e-04 - acc: 1.0000 - val_loss: 1.5324 - val_acc: 0.7800\n",
      "Epoch 82/100\n",
      " - 10s - loss: 3.0258e-04 - acc: 1.0000 - val_loss: 1.5285 - val_acc: 0.7733\n",
      "Epoch 83/100\n",
      " - 9s - loss: 6.2727e-04 - acc: 1.0000 - val_loss: 1.5028 - val_acc: 0.7867\n",
      "Epoch 84/100\n",
      " - 9s - loss: 5.8385e-04 - acc: 1.0000 - val_loss: 1.4877 - val_acc: 0.7867\n",
      "Epoch 85/100\n",
      " - 9s - loss: 3.8633e-04 - acc: 1.0000 - val_loss: 1.4818 - val_acc: 0.7933\n",
      "Epoch 86/100\n",
      " - 9s - loss: 3.4270e-04 - acc: 1.0000 - val_loss: 1.5301 - val_acc: 0.7900\n",
      "Epoch 87/100\n",
      " - 9s - loss: 2.9622e-04 - acc: 1.0000 - val_loss: 1.5562 - val_acc: 0.8000\n",
      "Epoch 88/100\n",
      " - 9s - loss: 1.5628e-04 - acc: 1.0000 - val_loss: 1.5628 - val_acc: 0.8000\n",
      "Epoch 89/100\n",
      " - 10s - loss: 1.5684e-04 - acc: 1.0000 - val_loss: 1.5615 - val_acc: 0.7967\n",
      "Epoch 90/100\n",
      " - 9s - loss: 6.8938e-04 - acc: 1.0000 - val_loss: 1.5364 - val_acc: 0.7933\n",
      "Epoch 91/100\n",
      " - 9s - loss: 2.2037e-04 - acc: 1.0000 - val_loss: 1.5281 - val_acc: 0.7933\n",
      "Epoch 92/100\n",
      " - 9s - loss: 5.8328e-04 - acc: 1.0000 - val_loss: 1.5376 - val_acc: 0.7933\n",
      "Epoch 93/100\n",
      " - 9s - loss: 2.4129e-04 - acc: 1.0000 - val_loss: 1.5642 - val_acc: 0.7800\n",
      "Epoch 94/100\n",
      " - 9s - loss: 5.2630e-04 - acc: 1.0000 - val_loss: 1.5361 - val_acc: 0.7900\n"
     ]
    },
    {
     "name": "stdout",
     "output_type": "stream",
     "text": [
      "Epoch 95/100\n",
      " - 10s - loss: 0.0012 - acc: 1.0000 - val_loss: 1.5864 - val_acc: 0.7767\n",
      "Epoch 96/100\n",
      " - 9s - loss: 0.0029 - acc: 1.0000 - val_loss: 1.6906 - val_acc: 0.7733\n",
      "Epoch 97/100\n",
      " - 9s - loss: 0.0029 - acc: 1.0000 - val_loss: 1.4540 - val_acc: 0.7767\n",
      "Epoch 98/100\n",
      " - 9s - loss: 0.0034 - acc: 1.0000 - val_loss: 1.4337 - val_acc: 0.7733\n",
      "Epoch 99/100\n",
      " - 9s - loss: 0.0094 - acc: 0.9967 - val_loss: 1.7219 - val_acc: 0.7700\n",
      "Epoch 100/100\n",
      " - 9s - loss: 0.0097 - acc: 0.9967 - val_loss: 1.5456 - val_acc: 0.7800\n"
     ]
    },
    {
     "data": {
      "text/plain": [
       "<keras.callbacks.History at 0x210e9b39748>"
      ]
     },
     "execution_count": 27,
     "metadata": {},
     "output_type": "execute_result"
    }
   ],
   "source": [
    "# build the model\n",
    "model = baseline_model(n_train)\n",
    "# Fit the model\n",
    "model.fit(X_train_4D, Y_train_trinary, validation_data=(X_test_4D, Y_test), epochs=epochs, batch_size=batch,verbose=2)\n",
    "\n"
   ]
  },
  {
   "cell_type": "code",
   "execution_count": 28,
   "metadata": {},
   "outputs": [
    {
     "data": {
      "text/plain": [
       "<function matplotlib.pyplot.show(*args, **kw)>"
      ]
     },
     "execution_count": 28,
     "metadata": {},
     "output_type": "execute_result"
    },
    {
     "data": {
      "image/png": "[encoded data removed]",
      "text/plain": [
       "<Figure size 432x288 with 1 Axes>"
      ]
     },
     "metadata": {},
     "output_type": "display_data"
    }
   ],
   "source": [
    "#Plot\n",
    "loss_ADAM_Conv = history.history.get('loss')\n",
    "accuracy_ADAM_Conv = history.history.get('acc')\n",
    "plt.plot(loss_ADAM_Conv)\n",
    "plt.legend(['loss_ADAM_Convolutional_2D'])\n",
    "plt.show\n",
    "plt.plot(accuracy_ADAM_Conv)\n",
    "plt.legend(['Accuracy_ADAM_Convolutional_2D'])\n",
    "plt.show"
   ]
  },
  {
   "cell_type": "code",
   "execution_count": 29,
   "metadata": {},
   "outputs": [
    {
     "name": "stdout",
     "output_type": "stream",
     "text": [
      "300/300 [==============================] - 1s 3ms/step\n",
      "CNN Error: 22.00%\n",
      "CNN Accuracy: 78.00%\n",
      "CNN Loss: 1.55\n"
     ]
    }
   ],
   "source": [
    "# Final evaluation of the model\n",
    "#.evaluate() computes the loss based on the input you pass it, along with any other metrics that you requested in the metrics param when you compiled your model \n",
    "scores = model.evaluate(X_test_4D, Y_test)\n",
    "print(\"CNN Error: %.2f%%\" % (100-scores[1]*100))\n",
    "print(\"CNN Accuracy: %.2f%%\" % (scores[1]*100))\n",
    "print(\"CNN Loss: %.2f\" % (scores[0]))"
   ]
  },
  {
   "cell_type": "markdown",
   "metadata": {},
   "source": [
    "# 6 A Regression Problem\n",
    "This part focus on prediction the location of the vertices of a triangle, given an image of this triangle. Images contain noises.\n",
    "\n",
    "I have normalized both inputs and outputs in order to get values between 0 and 1. My experiements show that convolutional networks don't help to improve accuracy, so I decide to employ fully connected layers to tackle this problem.\n",
    "\n",
    "A triangle can be identified with three points. In our dataset, the shape of Y_train is (300,6). Each simulation contains 6 values, which are [X(0),Y(0),X(1),Y(1),X(2),Y(2)]. The objectif is to predict these 6 values of each triangle.\n",
    "\n",
    "### Results\n",
    "The value of loss function is very small, the model seams to perform well. But differences between each data point [X(i),Y(i)] is too small. For this reason, the shape of predicted triangle is very small comparing to inputs. Another difficulty is that the shape of triangle is not very clear, and the presence of noise make the object location much more difficult.\n",
    "\n",
    "When the triangle's surface is big enough, the prediction located inside the input triangle. However, then the triangle shape is not clear, prediction result is poor.\n",
    "\n",
    "One possible reason for this error is that the model fail to realize that, each data point of a triangle is interchangeable. "
   ]
  },
  {
   "cell_type": "code",
   "execution_count": 70,
   "metadata": {},
   "outputs": [
    {
     "name": "stdout",
     "output_type": "stream",
     "text": [
      "Creating data:\n",
      "0\n",
      "10\n",
      "20\n",
      "30\n",
      "40\n",
      "50\n",
      "60\n",
      "70\n",
      "80\n",
      "90\n",
      "100\n",
      "110\n",
      "120\n",
      "130\n",
      "140\n",
      "150\n",
      "160\n",
      "170\n",
      "180\n",
      "190\n",
      "200\n",
      "210\n",
      "220\n",
      "230\n",
      "240\n",
      "250\n",
      "260\n",
      "270\n",
      "280\n",
      "290\n",
      "Creating data:\n",
      "0\n",
      "10\n",
      "20\n",
      "30\n",
      "40\n",
      "50\n",
      "60\n",
      "70\n",
      "80\n",
      "90\n",
      "100\n",
      "110\n",
      "120\n",
      "130\n",
      "140\n",
      "150\n",
      "160\n",
      "170\n",
      "180\n",
      "190\n",
      "200\n",
      "210\n",
      "220\n",
      "230\n",
      "240\n",
      "250\n",
      "260\n",
      "270\n",
      "280\n",
      "290\n"
     ]
    },
    {
     "data": {
      "image/png": "[encoded data removed]",
      "text/plain": [
       "<Figure size 360x360 with 1 Axes>"
      ]
     },
     "metadata": {},
     "output_type": "display_data"
    }
   ],
   "source": [
    "[X_train, Y_train] = generate_dataset_regression(300, 20)\n",
    "[X_test, Y_test] = generate_test_set_regression()\n",
    "visualize_prediction(X_train[0], Y_train[0])"
   ]
  },
  {
   "cell_type": "code",
   "execution_count": 31,
   "metadata": {},
   "outputs": [],
   "source": [
    "X_train_norm =(X_train - np.mean(X_train)) / np.std(X_train)\n",
    "X_test_norm =(X_test - np.mean(X_test)) / np.std(X_test)"
   ]
  },
  {
   "cell_type": "code",
   "execution_count": 32,
   "metadata": {},
   "outputs": [
    {
     "data": {
      "text/plain": [
       "((300, 6), 0.00690625371749478, 0.004011789596324513)"
      ]
     },
     "execution_count": 32,
     "metadata": {},
     "output_type": "execute_result"
    }
   ],
   "source": [
    "# Normalize x, y by img_size, so that all values are between 0 and 1.\n",
    "Y_train_norm = Y_train.reshape(Y_train.shape[0], -1) / IMAGE_SIZE\n",
    "Y_test_norm = Y_test.reshape(Y_test.shape[0], -1) / IMAGE_SIZE\n",
    "Y_test_norm.shape, np.mean(Y_test_norm), np.std(Y_test_norm)"
   ]
  },
  {
   "cell_type": "code",
   "execution_count": 51,
   "metadata": {},
   "outputs": [],
   "source": [
    "model = Sequential()\n",
    "model.add(Dense(128, input_dim=X_train_norm.shape[-1], kernel_initializer='normal',activation='relu'))\n",
    "# model.add(Dropout(0.2))\n",
    "model.add(Dense(64, kernel_initializer='normal',activation='relu'))\n",
    "# model.add(Dropout(0.2))\n",
    "model.add(Dense(32, kernel_initializer='normal',activation='relu'))\n",
    "# model.add(Dropout(0.2))\n",
    "model.add(Dense(3,kernel_initializer='normal',activation='relu'))\n",
    "# model.add(Dropout(0.2))\n",
    "model.add(Dense(Y_train_norm.shape[-1]))\n",
    "model.compile(optimizer='adadelta', loss='mse')"
   ]
  },
  {
   "cell_type": "code",
   "execution_count": 52,
   "metadata": {},
   "outputs": [
    {
     "name": "stdout",
     "output_type": "stream",
     "text": [
      "Train on 300 samples, validate on 300 samples\n",
      "Epoch 1/20\n",
      " - 1s - loss: 3.1758e-04 - val_loss: 5.1457e-05\n",
      "Epoch 2/20\n",
      " - 0s - loss: 4.3910e-05 - val_loss: 3.0322e-05\n",
      "Epoch 3/20\n",
      " - 0s - loss: 2.8727e-05 - val_loss: 2.4237e-05\n",
      "Epoch 4/20\n",
      " - 0s - loss: 2.3435e-05 - val_loss: 2.2052e-05\n",
      "Epoch 5/20\n",
      " - 0s - loss: 2.1132e-05 - val_loss: 2.0779e-05\n",
      "Epoch 6/20\n",
      " - 0s - loss: 1.9802e-05 - val_loss: 1.9989e-05\n",
      "Epoch 7/20\n",
      " - 0s - loss: 1.8908e-05 - val_loss: 1.9546e-05\n",
      "Epoch 8/20\n",
      " - 0s - loss: 1.8316e-05 - val_loss: 1.8912e-05\n",
      "Epoch 9/20\n",
      " - 0s - loss: 1.7895e-05 - val_loss: 1.8706e-05\n",
      "Epoch 10/20\n",
      " - 0s - loss: 1.7523e-05 - val_loss: 1.8620e-05\n",
      "Epoch 11/20\n",
      " - 0s - loss: 1.7289e-05 - val_loss: 1.8154e-05\n",
      "Epoch 12/20\n",
      " - 0s - loss: 1.7043e-05 - val_loss: 1.7944e-05\n",
      "Epoch 13/20\n",
      " - 0s - loss: 1.6904e-05 - val_loss: 1.7720e-05\n",
      "Epoch 14/20\n",
      " - 0s - loss: 1.6761e-05 - val_loss: 1.7585e-05\n",
      "Epoch 15/20\n",
      " - 0s - loss: 1.6712e-05 - val_loss: 1.7578e-05\n",
      "Epoch 16/20\n",
      " - 0s - loss: 1.6503e-05 - val_loss: 1.7688e-05\n",
      "Epoch 17/20\n",
      " - 0s - loss: 1.6479e-05 - val_loss: 1.7428e-05\n",
      "Epoch 18/20\n",
      " - 0s - loss: 1.6456e-05 - val_loss: 1.7344e-05\n",
      "Epoch 19/20\n",
      " - 0s - loss: 1.6422e-05 - val_loss: 1.7309e-05\n",
      "Epoch 20/20\n",
      " - 0s - loss: 1.6394e-05 - val_loss: 1.7281e-05\n"
     ]
    },
    {
     "data": {
      "text/plain": [
       "<keras.callbacks.History at 0x210e9f71748>"
      ]
     },
     "execution_count": 52,
     "metadata": {},
     "output_type": "execute_result"
    }
   ],
   "source": [
    "model.fit(X_train_norm, Y_train_norm, validation_data=(X_test_norm, Y_test_norm), epochs=20, batch_size=batch,verbose=2,callbacks=[history])"
   ]
  },
  {
   "cell_type": "code",
   "execution_count": 53,
   "metadata": {},
   "outputs": [
    {
     "data": {
      "text/plain": [
       "<function matplotlib.pyplot.show(*args, **kw)>"
      ]
     },
     "execution_count": 53,
     "metadata": {},
     "output_type": "execute_result"
    },
    {
     "data": {
      "image/png": "[encoded data removed]",
      "text/plain": [
       "<Figure size 432x288 with 1 Axes>"
      ]
     },
     "metadata": {},
     "output_type": "display_data"
    }
   ],
   "source": [
    "loss_ADAM_locations = history.history.get('loss')\n",
    "\n",
    "plt.plot(loss_ADAM_locations)\n",
    "plt.legend(['loss_ADAM_Locations'])\n",
    "plt.show"
   ]
  },
  {
   "cell_type": "code",
   "execution_count": 54,
   "metadata": {},
   "outputs": [],
   "source": [
    "# Predict bounding boxes on the test images.\n",
    "pred_Y = model.predict(X_test_norm)\n",
    "pred_triangles = pred_Y * IMAGE_SIZE"
   ]
  },
  {
   "cell_type": "code",
   "execution_count": 55,
   "metadata": {},
   "outputs": [],
   "source": [
    "def visualize_prediction(x, y):\n",
    "    fig, ax = plt.subplots(figsize=(5, 5))\n",
    "    I = x.reshape((IMAGE_SIZE,IMAGE_SIZE))\n",
    "    ax.imshow(I, extent=[-0.15,1.15,-0.15,1.15],cmap='gray')\n",
    "    ax.set_xlim([0,1])\n",
    "    ax.set_ylim([0,1])\n",
    "\n",
    "    xy = y.reshape(3,2)\n",
    "    tri = patches.Polygon(xy, closed=True, fill = False, edgecolor = 'r', linewidth = 5, alpha = 0.5)\n",
    "    ax.add_patch(tri)\n",
    "\n",
    "    plt.show()"
   ]
  },
  {
   "cell_type": "code",
   "execution_count": 69,
   "metadata": {
    "scrolled": true
   },
   "outputs": [
    {
     "data": {
      "image/png": "[encoded data removed]",
      "text/plain": [
       "<Figure size 360x360 with 1 Axes>"
      ]
     },
     "metadata": {},
     "output_type": "display_data"
    },
    {
     "data": {
      "text/plain": [
       "array([0.44416567, 0.33037206, 0.45311888, 0.67686012, 0.87141638,\n",
       "       0.30311524])"
      ]
     },
     "metadata": {},
     "output_type": "display_data"
    },
    {
     "data": {
      "text/plain": [
       "array([0.46406004, 0.51678896, 0.47262794, 0.52290094, 0.49349755,\n",
       "       0.45442414], dtype=float32)"
      ]
     },
     "metadata": {},
     "output_type": "display_data"
    },
    {
     "data": {
      "image/png": "[encoded data removed]",
      "text/plain": [
       "<Figure size 360x360 with 1 Axes>"
      ]
     },
     "metadata": {},
     "output_type": "display_data"
    },
    {
     "data": {
      "text/plain": [
       "array([0.62208022, 0.14731968, 0.25730081, 0.48896147, 0.18250246,\n",
       "       0.57415514])"
      ]
     },
     "metadata": {},
     "output_type": "display_data"
    },
    {
     "data": {
      "text/plain": [
       "array([0.46406004, 0.51678896, 0.47262794, 0.52290094, 0.49349755,\n",
       "       0.45442414], dtype=float32)"
      ]
     },
     "metadata": {},
     "output_type": "display_data"
    },
    {
     "data": {
      "image/png": "[encoded data removed]",
      "text/plain": [
       "<Figure size 360x360 with 1 Axes>"
      ]
     },
     "metadata": {},
     "output_type": "display_data"
    },
    {
     "data": {
      "text/plain": [
       "array([0.79051217, 0.8570231 , 0.81355856, 0.21326272, 0.09218341,\n",
       "       0.62794772])"
      ]
     },
     "metadata": {},
     "output_type": "display_data"
    },
    {
     "data": {
      "text/plain": [
       "array([0.46406004, 0.51678896, 0.47262794, 0.52290094, 0.49349755,\n",
       "       0.45442414], dtype=float32)"
      ]
     },
     "metadata": {},
     "output_type": "display_data"
    },
    {
     "data": {
      "image/png": "[encoded data removed]",
      "text/plain": [
       "<Figure size 360x360 with 1 Axes>"
      ]
     },
     "metadata": {},
     "output_type": "display_data"
    },
    {
     "data": {
      "text/plain": [
       "array([0.61134504, 0.77155581, 0.21487756, 0.22677233, 0.39666126,\n",
       "       0.45811595])"
      ]
     },
     "metadata": {},
     "output_type": "display_data"
    },
    {
     "data": {
      "text/plain": [
       "array([0.46406004, 0.51678896, 0.47262794, 0.52290094, 0.49349755,\n",
       "       0.45442414], dtype=float32)"
      ]
     },
     "metadata": {},
     "output_type": "display_data"
    },
    {
     "data": {
      "image/png": "[encoded data removed]",
      "text/plain": [
       "<Figure size 360x360 with 1 Axes>"
      ]
     },
     "metadata": {},
     "output_type": "display_data"
    },
    {
     "data": {
      "text/plain": [
       "array([0.6246601 , 0.13500592, 0.58837558, 0.02786487, 0.5433922 ,\n",
       "       0.73977445])"
      ]
     },
     "metadata": {},
     "output_type": "display_data"
    },
    {
     "data": {
      "text/plain": [
       "array([0.46406004, 0.51678896, 0.47262794, 0.52290094, 0.49349755,\n",
       "       0.45442414], dtype=float32)"
      ]
     },
     "metadata": {},
     "output_type": "display_data"
    }
   ],
   "source": [
    "# 18,54,73,82\n",
    "\n",
    "triangles =[18,82,156,254,288]\n",
    "for i in triangles:\n",
    "    visualize_prediction(X_test[i],pred_triangles[i])\n",
    "    display(Y_test[i])\n",
    "    display(pred_triangles[i])\n"
   ]
  },
  {
   "cell_type": "markdown",
   "metadata": {},
   "source": [
    "# 7. Denoising\n",
    "\n",
    "In this part, I have modified the generate_a_* function on order to have it returned images with and without noise. The denoising procedure should be donne with encoder and decoder."
   ]
  },
  {
   "cell_type": "code",
   "execution_count": 71,
   "metadata": {},
   "outputs": [],
   "source": [
    "def generate_a_rectangle_bis(noise=0.0, free_location=False):\n",
    "    figsize = 1.0    \n",
    "    U = np.zeros(4)\n",
    "    V = np.zeros(4)\n",
    "    if free_location:\n",
    "        corners = np.random.random(4)\n",
    "        top = max(corners[0], corners[1])\n",
    "        bottom = min(corners[0], corners[1])\n",
    "        left = min(corners[2], corners[3])\n",
    "        right = max(corners[2], corners[3])\n",
    "    else:\n",
    "        side = (0.3 + 0.7 * np.random.random()) * figsize\n",
    "        top = figsize/2 + side/2\n",
    "        bottom = figsize/2 - side/2\n",
    "        left = bottom\n",
    "        right = top\n",
    "    U[0] = U[1] = top\n",
    "    U[2] = U[3] = bottom\n",
    "    V[0] = V[3] = left\n",
    "    V[1] = V[2] = right\n",
    "    im_rectangle=generate_a_drawing(figsize, U, V, noise)\n",
    "    im_rectangle_no_noise=generate_a_drawing(figsize, U, V, 0.0)\n",
    "    \n",
    "    return [im_rectangle,im_rectangle_no_noise]\n",
    "\n",
    "def generate_a_disk_bis(noise=0.0, free_location=False):\n",
    "    figsize = 1.0\n",
    "    if free_location:\n",
    "        center = np.random.random(2)\n",
    "    else:\n",
    "        center = (figsize/2, figsize/2)\n",
    "    radius = (0.3 + 0.7 * np.random.random()) * figsize/2\n",
    "    N = 50\n",
    "    U = np.zeros(N)\n",
    "    V = np.zeros(N)\n",
    "    i = 0\n",
    "    for t in np.linspace(0, 2*np.pi, N):\n",
    "        U[i] = center[0] + np.cos(t) * radius\n",
    "        V[i] = center[1] + np.sin(t) * radius\n",
    "        i = i + 1\n",
    "    im_disk= generate_a_drawing(figsize, U, V, noise)\n",
    "    im_dis_no_noise=generate_a_drawing(figsize, U, V, 0.0)\n",
    "    return [im_disk,im_dis_no_noise]\n",
    "\n",
    "def generate_a_triangle_bis(noise=0.0, free_location=False):\n",
    "    figsize = 1.0\n",
    "    if free_location:\n",
    "        U = np.random.random(3)\n",
    "        V = np.random.random(3)\n",
    "\n",
    "    else:\n",
    "        size = (0.3 + 0.7 * np.random.random())*figsize/2\n",
    "        middle = figsize/2\n",
    "        U = (middle, middle+size, middle-size)\n",
    "        V = (middle+size, middle-size, middle-size)\n",
    "\n",
    "        \n",
    "    imdata = generate_a_drawing(figsize, U, V, noise)\n",
    "    imdata_no_noise= generate_a_drawing(figsize, U, V, 0.0)\n",
    "    return [[imdata, [U[0], V[0], U[1], V[1], U[2], V[2]]],[imdata_no_noise, [U[0], V[0], U[1], V[1], U[2], V[2]]]]"
   ]
  },
  {
   "cell_type": "code",
   "execution_count": 72,
   "metadata": {},
   "outputs": [
    {
     "data": {
      "text/plain": [
       "<matplotlib.image.AxesImage at 0x21080cb2160>"
      ]
     },
     "metadata": {},
     "output_type": "display_data"
    },
    {
     "data": {
      "image/png": "[encoded data removed]",
      "text/plain": [
       "<Figure size 432x288 with 1 Axes>"
      ]
     },
     "metadata": {},
     "output_type": "display_data"
    }
   ],
   "source": [
    "[[im_triangle,v],[im_triangle_no_noise,v]]= generate_a_triangle_bis(20, False)\n",
    "display(plt.imshow(im_triangle.reshape(IMAGE_SIZE,IMAGE_SIZE), cmap='gray'))"
   ]
  },
  {
   "cell_type": "code",
   "execution_count": 73,
   "metadata": {},
   "outputs": [
    {
     "data": {
      "text/plain": [
       "<matplotlib.image.AxesImage at 0x21080d01dd8>"
      ]
     },
     "execution_count": 73,
     "metadata": {},
     "output_type": "execute_result"
    },
    {
     "data": {
      "image/png": "[encoded data removed]",
      "text/plain": [
       "<Figure size 432x288 with 1 Axes>"
      ]
     },
     "metadata": {},
     "output_type": "display_data"
    }
   ],
   "source": [
    "plt.imshow(im_triangle_no_noise.reshape(IMAGE_SIZE,IMAGE_SIZE), cmap='gray')"
   ]
  },
  {
   "cell_type": "code",
   "execution_count": 74,
   "metadata": {},
   "outputs": [
    {
     "data": {
      "text/plain": [
       "<matplotlib.image.AxesImage at 0x21080dc53c8>"
      ]
     },
     "execution_count": 74,
     "metadata": {},
     "output_type": "execute_result"
    },
    {
     "data": {
      "image/png": "[encoded data removed]",
      "text/plain": [
       "<Figure size 432x288 with 1 Axes>"
      ]
     },
     "metadata": {},
     "output_type": "display_data"
    }
   ],
   "source": [
    "[im_rectangle,im_rectangle_no_noise]= generate_a_rectangle_bis(20, False)\n",
    "plt.imshow(im_rectangle.reshape(IMAGE_SIZE,IMAGE_SIZE), cmap='gray')\n"
   ]
  },
  {
   "cell_type": "code",
   "execution_count": 75,
   "metadata": {},
   "outputs": [
    {
     "data": {
      "text/plain": [
       "<matplotlib.image.AxesImage at 0x21080e1d358>"
      ]
     },
     "execution_count": 75,
     "metadata": {},
     "output_type": "execute_result"
    },
    {
     "data": {
      "image/png": "[encoded data removed]",
      "text/plain": [
       "<Figure size 432x288 with 1 Axes>"
      ]
     },
     "metadata": {},
     "output_type": "display_data"
    }
   ],
   "source": [
    "plt.imshow(im_rectangle_no_noise.reshape(IMAGE_SIZE,IMAGE_SIZE), cmap='gray')"
   ]
  },
  {
   "cell_type": "code",
   "execution_count": 76,
   "metadata": {},
   "outputs": [
    {
     "data": {
      "text/plain": [
       "<matplotlib.image.AxesImage at 0x21080ed5978>"
      ]
     },
     "execution_count": 76,
     "metadata": {},
     "output_type": "execute_result"
    },
    {
     "data": {
      "image/png": "[encoded data removed]",
      "text/plain": [
       "<Figure size 432x288 with 1 Axes>"
      ]
     },
     "metadata": {},
     "output_type": "display_data"
    }
   ],
   "source": [
    "[im_disk,im_disk_no_noise]= generate_a_disk_bis(20, False)\n",
    "plt.imshow(im_disk.reshape(IMAGE_SIZE,IMAGE_SIZE), cmap='gray')"
   ]
  },
  {
   "cell_type": "code",
   "execution_count": 77,
   "metadata": {},
   "outputs": [
    {
     "data": {
      "text/plain": [
       "<matplotlib.image.AxesImage at 0x21080f30898>"
      ]
     },
     "execution_count": 77,
     "metadata": {},
     "output_type": "execute_result"
    },
    {
     "data": {
      "image/png": "[encoded data removed]",
      "text/plain": [
       "<Figure size 432x288 with 1 Axes>"
      ]
     },
     "metadata": {},
     "output_type": "display_data"
    }
   ],
   "source": [
    "plt.imshow(im_disk_no_noise.reshape(IMAGE_SIZE,IMAGE_SIZE), cmap='gray')"
   ]
  },
  {
   "cell_type": "code",
   "execution_count": 78,
   "metadata": {},
   "outputs": [],
   "source": [
    "def generate_dataset_classification_bis(nb_samples, noise=0.0, free_location=False):\n",
    "    # Getting im_size:\n",
    "    im_size = generate_a_rectangle().shape[0]\n",
    "    X = np.zeros([nb_samples,im_size])\n",
    "    X_no_noise = np.zeros([nb_samples,im_size])\n",
    "    Y = np.zeros(nb_samples)\n",
    "    print('Creating data:')\n",
    "    for i in range(nb_samples):\n",
    "        if i % 10 == 0:\n",
    "            print(i)\n",
    "        category = np.random.randint(3)\n",
    "        if category == 0:\n",
    "            [X[i],X_no_noise[i]] = generate_a_rectangle_bis(noise, free_location)\n",
    "        elif category == 1: \n",
    "            [X[i],X_no_noise[i]] = generate_a_disk_bis(noise, free_location)\n",
    "        else:\n",
    "            [[X[i], V],[X_no_noise[i], V_no_noise]] = generate_a_triangle_bis(noise, free_location)\n",
    "        Y[i] = category\n",
    "    X = (X + noise) / (255 + 2 * noise)\n",
    "    X_no_noise = X/255\n",
    "    return [[X, Y],[X_no_noise,Y]]\n",
    "\n",
    "def generate_test_set_classification_bis():\n",
    "    np.random.seed(42)\n",
    "    [X_test, Y_test] = generate_dataset_classification_bis(300, 20, True)\n",
    "    Y_test = np_utils.to_categorical(Y_test, 3) \n",
    "    return [X_test, Y_test]"
   ]
  },
  {
   "cell_type": "code",
   "execution_count": 79,
   "metadata": {},
   "outputs": [
    {
     "name": "stdout",
     "output_type": "stream",
     "text": [
      "Creating data:\n",
      "0\n",
      "10\n",
      "20\n",
      "30\n",
      "40\n",
      "50\n",
      "60\n",
      "70\n",
      "80\n",
      "90\n",
      "100\n",
      "110\n",
      "120\n",
      "130\n",
      "140\n",
      "150\n",
      "160\n",
      "170\n",
      "180\n",
      "190\n",
      "200\n",
      "210\n",
      "220\n",
      "230\n",
      "240\n",
      "250\n",
      "260\n",
      "270\n",
      "280\n",
      "290\n"
     ]
    }
   ],
   "source": [
    "[[X_train,Y_train],[X_train_noise,Y_train]] = generate_dataset_classification_bis(300,20,True)"
   ]
  },
  {
   "cell_type": "code",
   "execution_count": null,
   "metadata": {},
   "outputs": [],
   "source": []
  }
 ],
 "metadata": {
  "kernelspec": {
   "display_name": "Python 3",
   "language": "python",
   "name": "python3"
  },
  "language_info": {
   "codemirror_mode": {
    "name": "ipython",
    "version": 3
   },
   "file_extension": ".py",
   "mimetype": "text/x-python",
   "name": "python",
   "nbconvert_exporter": "python",
   "pygments_lexer": "ipython3",
   "version": "3.6.5"
  }
 },
 "nbformat": 4,
 "nbformat_minor": 2
}
